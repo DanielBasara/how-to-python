{
 "cells": [
  {
   "cell_type": "markdown",
   "id": "0ef12e06-aed9-4edd-9d3b-f7c41a424cd0",
   "metadata": {},
   "source": [
    "# Dictionaryの使い方"
   ]
  },
  {
   "cell_type": "markdown",
   "id": "2c2a5194-403d-4885-bc40-66e5abcb834c",
   "metadata": {},
   "source": [
    "dict可以存储任意类型的元素并用键和值来存储方便查询。整个dict包含在{}内，键key和值value的关系是key1:value1, key2:value2"
   ]
  },
  {
   "cell_type": "code",
   "execution_count": 2,
   "id": "787a4c3c-5cfb-4a9c-9f71-97ff5909a003",
   "metadata": {},
   "outputs": [
    {
     "data": {
      "text/plain": [
       "'男，12岁，123233333'"
      ]
     },
     "execution_count": 2,
     "metadata": {},
     "output_type": "execute_result"
    }
   ],
   "source": [
    "# 生成dict和访问dict中的值\n",
    "dict1 = {\"小红\":\"女，13岁，133882388\", \"小张\":\"男，12岁，123233333\"}\n",
    "dict1[\"小张\"]"
   ]
  },
  {
   "cell_type": "code",
   "execution_count": 5,
   "id": "30674068-40cf-43c7-b041-058605d3a1cf",
   "metadata": {},
   "outputs": [
    {
     "name": "stdout",
     "output_type": "stream",
     "text": [
      "{'小红': '女，13岁，133882388', '小张': '男，12岁，123233333', '小明': '男，22岁，1333222233'}\n",
      "{'小红': '女，23岁，1377777777', '小张': '男，12岁，123233333', '小明': '男，22岁，1333222233'}\n"
     ]
    }
   ],
   "source": [
    "#新增一个key-value\n",
    "dict1 = {\"小红\":\"女，13岁，133882388\", \"小张\":\"男，12岁，123233333\"}\n",
    "dict1[\"小明\"] = \"男，22岁，1333222233\"\n",
    "print(dict1)\n",
    "#修改一个key-value\n",
    "dict1[\"小红\"] = \"女，23岁，1377777777\"\n",
    "print(dict1)"
   ]
  },
  {
   "cell_type": "code",
   "execution_count": 7,
   "id": "242309f5-902f-4d7e-9a08-2c29b661a260",
   "metadata": {},
   "outputs": [
    {
     "name": "stdout",
     "output_type": "stream",
     "text": [
      "{'小张': '男，12岁，123233333'}\n",
      "{}\n"
     ]
    },
    {
     "ename": "NameError",
     "evalue": "name 'dict1' is not defined",
     "output_type": "error",
     "traceback": [
      "\u001b[1;31m---------------------------------------------------------------------------\u001b[0m",
      "\u001b[1;31mNameError\u001b[0m                                 Traceback (most recent call last)",
      "\u001b[1;32m<ipython-input-7-2cd44e5b8b50>\u001b[0m in \u001b[0;36m<module>\u001b[1;34m\u001b[0m\n\u001b[0;32m      8\u001b[0m \u001b[1;31m#删除dict本身\u001b[0m\u001b[1;33m\u001b[0m\u001b[1;33m\u001b[0m\u001b[1;33m\u001b[0m\u001b[0m\n\u001b[0;32m      9\u001b[0m \u001b[1;32mdel\u001b[0m \u001b[0mdict1\u001b[0m\u001b[1;33m\u001b[0m\u001b[1;33m\u001b[0m\u001b[0m\n\u001b[1;32m---> 10\u001b[1;33m \u001b[0mprint\u001b[0m\u001b[1;33m(\u001b[0m\u001b[0mdict1\u001b[0m\u001b[1;33m)\u001b[0m\u001b[1;33m\u001b[0m\u001b[1;33m\u001b[0m\u001b[0m\n\u001b[0m",
      "\u001b[1;31mNameError\u001b[0m: name 'dict1' is not defined"
     ]
    }
   ],
   "source": [
    "#删除dict或其中的key-value\n",
    "dict1 = {\"小红\":\"女，13岁，133882388\", \"小张\":\"男，12岁，123233333\"}\n",
    "del dict1[\"小红\"]\n",
    "print(dict1)\n",
    "#删除所有元素\n",
    "dict1.clear()\n",
    "print(dict1)\n",
    "#删除dict本身\n",
    "del dict1\n",
    "print(dict1)"
   ]
  },
  {
   "cell_type": "markdown",
   "id": "06a2c14c-9aef-4a30-a73b-6f425754c085",
   "metadata": {},
   "source": [
    "list不能作为dict的key使用"
   ]
  },
  {
   "cell_type": "markdown",
   "id": "8a79baaa-7d74-459d-956c-755aac0c525b",
   "metadata": {},
   "source": [
    "# Setdの使い方"
   ]
  },
  {
   "cell_type": "markdown",
   "id": "6de2a81a-c3e9-46d0-ab78-2b56827f340d",
   "metadata": {},
   "source": [
    "set类似dict，但是没有key，dict有重复的key时后面被创建的key-value关系会把前面的代替掉。set也一样会把重复的元素过滤掉。"
   ]
  },
  {
   "cell_type": "code",
   "execution_count": 11,
   "id": "f83406f2-0fd5-48de-88b1-a398d40dc0e6",
   "metadata": {},
   "outputs": [
    {
     "data": {
      "text/plain": [
       "{1, 2, 3}"
      ]
     },
     "execution_count": 11,
     "metadata": {},
     "output_type": "execute_result"
    }
   ],
   "source": [
    "# 创建一个set\n",
    "set1 = set([2, 1, 3, 3])\n",
    "set1"
   ]
  },
  {
   "cell_type": "code",
   "execution_count": 14,
   "id": "ec524632-dfc8-420e-bc08-beee49b0e21a",
   "metadata": {},
   "outputs": [
    {
     "name": "stdout",
     "output_type": "stream",
     "text": [
      "{1, 2, 3, 7}\n",
      "{2, 3, 7}\n"
     ]
    }
   ],
   "source": [
    "#set中增加元素\n",
    "set1 = set([2, 1, 3, 3])\n",
    "set1.add(7)\n",
    "print(set1)\n",
    "#set中删除元素\n",
    "set1.remove(1)\n",
    "print(set1)"
   ]
  },
  {
   "cell_type": "code",
   "execution_count": 18,
   "id": "066907c6-d20c-46aa-9e80-255d8a55d303",
   "metadata": {},
   "outputs": [
    {
     "name": "stdout",
     "output_type": "stream",
     "text": [
      "{'y', 's', 'e'}\n",
      "{'s', 'o', 'y', 'k', 'e'}\n",
      "set()\n",
      "{'k', 'o'}\n"
     ]
    }
   ],
   "source": [
    "#不同的set可以做数学上的并集，交集，差集\n",
    "set1 = set(\"yes\")\n",
    "set2 = set([\"y\", \"e\", \"s\", \"o\", \"k\"])\n",
    "# 交集\n",
    "set3 = set1 & set2\n",
    "print(set3)\n",
    "#并集\n",
    "set4 = set1 | set2\n",
    "print(set4)\n",
    "#差集\n",
    "set5 = set1 -set2\n",
    "set6 = set2 -set1\n",
    "print(set5)\n",
    "print(set6)"
   ]
  }
 ],
 "metadata": {
  "kernelspec": {
   "display_name": "Python 3",
   "language": "python",
   "name": "python3"
  },
  "language_info": {
   "codemirror_mode": {
    "name": "ipython",
    "version": 3
   },
   "file_extension": ".py",
   "mimetype": "text/x-python",
   "name": "python",
   "nbconvert_exporter": "python",
   "pygments_lexer": "ipython3",
   "version": "3.8.8"
  }
 },
 "nbformat": 4,
 "nbformat_minor": 5
}
