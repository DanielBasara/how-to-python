{
 "cells": [
  {
   "cell_type": "markdown",
   "id": "2ded9ac1",
   "metadata": {},
   "source": [
    "# 1.list的使用方式"
   ]
  },
  {
   "cell_type": "markdown",
   "id": "aa46cd94",
   "metadata": {},
   "source": [
    "## 在list最后添加元素"
   ]
  },
  {
   "cell_type": "code",
   "execution_count": 15,
   "id": "a2b4c625",
   "metadata": {},
   "outputs": [
    {
     "data": {
      "text/plain": [
       "[1, 2, (3, 4), (4, 5), 1, 'データ']"
      ]
     },
     "execution_count": 15,
     "metadata": {},
     "output_type": "execute_result"
    }
   ],
   "source": [
    "list1 = [1, 2, (3,4)]\n",
    "list1.append((4,5))\n",
    "list1.append(1)\n",
    "list1.append(\"データ\")\n",
    "list1"
   ]
  },
  {
   "cell_type": "markdown",
   "id": "ca7345ca",
   "metadata": {},
   "source": [
    "## 把一个list里的所有元素放到另一个list里"
   ]
  },
  {
   "cell_type": "code",
   "execution_count": 18,
   "id": "f773084d",
   "metadata": {},
   "outputs": [
    {
     "data": {
      "text/plain": [
       "[3, 4, 5, 'hello Jupyter', 1, 2, (3, 4)]"
      ]
     },
     "execution_count": 18,
     "metadata": {},
     "output_type": "execute_result"
    }
   ],
   "source": [
    "list1 = [1, 2, (3,4)]\n",
    "list2 = [3, 4, 5, 'hello Jupyter']\n",
    "list2.extend(list1)\n",
    "list2"
   ]
  },
  {
   "cell_type": "markdown",
   "id": "7954ab90",
   "metadata": {},
   "source": [
    "## 将元素添加到指定位置 insert(index,object)"
   ]
  },
  {
   "cell_type": "code",
   "execution_count": 20,
   "id": "8289eb1b",
   "metadata": {},
   "outputs": [
    {
     "data": {
      "text/plain": [
       "[1, '追加データ', 2, (3, 4)]"
      ]
     },
     "execution_count": 20,
     "metadata": {},
     "output_type": "execute_result"
    }
   ],
   "source": [
    "list1 = [1, 2, (3,4)]\n",
    "list1.insert(1, '追加データ')\n",
    "list1"
   ]
  },
  {
   "cell_type": "markdown",
   "id": "09440b20",
   "metadata": {},
   "source": [
    "## list的基本运算"
   ]
  },
  {
   "cell_type": "code",
   "execution_count": 21,
   "id": "4980e262",
   "metadata": {},
   "outputs": [
    {
     "data": {
      "text/plain": [
       "4"
      ]
     },
     "execution_count": 21,
     "metadata": {},
     "output_type": "execute_result"
    }
   ],
   "source": [
    "# 计算元素的个数\n",
    "list1 = [1, 2, 3, 'バリュー']\n",
    "len(list1) "
   ]
  },
  {
   "cell_type": "code",
   "execution_count": 22,
   "id": "6f9cf8d4",
   "metadata": {},
   "outputs": [
    {
     "data": {
      "text/plain": [
       "[1, 2, (3, 4), 3, 4, 5, 'hello Jupyter']"
      ]
     },
     "execution_count": 22,
     "metadata": {},
     "output_type": "execute_result"
    }
   ],
   "source": [
    "# 2个list组合\n",
    "list1 = [1, 2, (3,4)]\n",
    "list2 = [3, 4, 5, 'hello Jupyter']\n",
    "list1 + list2"
   ]
  },
  {
   "cell_type": "code",
   "execution_count": 23,
   "id": "249502d6",
   "metadata": {},
   "outputs": [
    {
     "data": {
      "text/plain": [
       "[1, 2, (3, 4), 1, 2, (3, 4), 1, 2, (3, 4)]"
      ]
     },
     "execution_count": 23,
     "metadata": {},
     "output_type": "execute_result"
    }
   ],
   "source": [
    "#复制list里的所有元素\n",
    "list1 = [1, 2, (3,4)]\n",
    "list1 * 3"
   ]
  },
  {
   "cell_type": "code",
   "execution_count": 25,
   "id": "70ad50a5",
   "metadata": {},
   "outputs": [
    {
     "data": {
      "text/plain": [
       "(False, True)"
      ]
     },
     "execution_count": 25,
     "metadata": {},
     "output_type": "execute_result"
    }
   ],
   "source": [
    "#判断某元素是否存在与list中，返回true or false\n",
    "list1 = [1, 2, (3,4)]\n",
    "a = 3 in list1\n",
    "b = (3,4) in list1\n",
    "a,b"
   ]
  },
  {
   "cell_type": "code",
   "execution_count": 27,
   "id": "186df1ac",
   "metadata": {},
   "outputs": [
    {
     "name": "stdout",
     "output_type": "stream",
     "text": [
      "1\n",
      "2\n",
      "3\n"
     ]
    }
   ],
   "source": [
    "#生成循环\n",
    "for i in [1, 2, 3]:\n",
    "    print(i)"
   ]
  },
  {
   "cell_type": "code",
   "execution_count": 72,
   "id": "2fc3ef4e",
   "metadata": {},
   "outputs": [
    {
     "name": "stdout",
     "output_type": "stream",
     "text": [
      "[1, 2, 3, 4]\n",
      "[2, 3, 4]\n",
      "[2, 3, 4, 5]\n"
     ]
    }
   ],
   "source": [
    "#删除末尾的元素或者删除指定位置的元素，如果加 = 则把这个删除的元素赋值给某个变量中\n",
    "list1 = [1, 2, 3, 4, 5]\n",
    "list1.pop()\n",
    "print(list1)\n",
    "list1.pop(0)\n",
    "print(list1)\n",
    "#或者也可以不返回任何值.这玩意居然又不识别0了，脑子有问题\n",
    "list2 = [1, 2, 3, 4, 5]\n",
    "list2.remove(1)\n",
    "print(list2)"
   ]
  },
  {
   "cell_type": "code",
   "execution_count": 67,
   "id": "966fd29f",
   "metadata": {},
   "outputs": [
    {
     "name": "stdout",
     "output_type": "stream",
     "text": [
      "[5, 4, 3, 2, 1]\n",
      "[1, 2, 3, 4, 5]\n",
      "['アカウント', 'ソフトウェア', 'デジタル', 'データ']\n"
     ]
    },
    {
     "ename": "TypeError",
     "evalue": "'<' not supported between instances of 'str' and 'int'",
     "output_type": "error",
     "traceback": [
      "\u001b[1;31m---------------------------------------------------------------------------\u001b[0m",
      "\u001b[1;31mTypeError\u001b[0m                                 Traceback (most recent call last)",
      "\u001b[1;32m<ipython-input-67-cc703e74368c>\u001b[0m in \u001b[0;36m<module>\u001b[1;34m\u001b[0m\n\u001b[0;32m     11\u001b[0m \u001b[1;31m#字符串与数之间无法比较\u001b[0m\u001b[1;33m\u001b[0m\u001b[1;33m\u001b[0m\u001b[1;33m\u001b[0m\u001b[0m\n\u001b[0;32m     12\u001b[0m \u001b[0mlist2\u001b[0m \u001b[1;33m=\u001b[0m \u001b[1;33m[\u001b[0m\u001b[1;36m2\u001b[0m\u001b[1;33m,\u001b[0m \u001b[1;36m1\u001b[0m\u001b[1;33m,\u001b[0m \u001b[1;36m3\u001b[0m\u001b[1;33m,\u001b[0m \u001b[1;34m'データ'\u001b[0m\u001b[1;33m]\u001b[0m\u001b[1;33m\u001b[0m\u001b[1;33m\u001b[0m\u001b[0m\n\u001b[1;32m---> 13\u001b[1;33m \u001b[0mlist2\u001b[0m\u001b[1;33m.\u001b[0m\u001b[0msort\u001b[0m\u001b[1;33m(\u001b[0m\u001b[1;33m)\u001b[0m\u001b[1;33m\u001b[0m\u001b[1;33m\u001b[0m\u001b[0m\n\u001b[0m\u001b[0;32m     14\u001b[0m \u001b[0mprint\u001b[0m\u001b[1;33m(\u001b[0m\u001b[0mlist2\u001b[0m\u001b[1;33m)\u001b[0m\u001b[1;33m\u001b[0m\u001b[1;33m\u001b[0m\u001b[0m\n",
      "\u001b[1;31mTypeError\u001b[0m: '<' not supported between instances of 'str' and 'int'"
     ]
    }
   ],
   "source": [
    "#list的元素进行反向reverse与排序sort\n",
    "list1 = [1, 2, 3, 4, 5]\n",
    "list1.reverse()\n",
    "print(list1)\n",
    "list1.sort()\n",
    "print(list1)\n",
    "#字符串与字符串之间可以比较\n",
    "list3 = ['アカウント', 'ソフトウェア', 'デジタル', 'データ']\n",
    "list3.sort()\n",
    "print(list3)\n",
    "#字符串与数之间无法比较\n",
    "list2 = [2, 1, 3, 'データ']\n",
    "list2.sort()\n",
    "print(list2)"
   ]
  },
  {
   "cell_type": "code",
   "execution_count": null,
   "id": "580643f3",
   "metadata": {},
   "outputs": [],
   "source": []
  }
 ],
 "metadata": {
  "kernelspec": {
   "display_name": "Python 3",
   "language": "python",
   "name": "python3"
  },
  "language_info": {
   "codemirror_mode": {
    "name": "ipython",
    "version": 3
   },
   "file_extension": ".py",
   "mimetype": "text/x-python",
   "name": "python",
   "nbconvert_exporter": "python",
   "pygments_lexer": "ipython3",
   "version": "3.8.8"
  }
 },
 "nbformat": 4,
 "nbformat_minor": 5
}
