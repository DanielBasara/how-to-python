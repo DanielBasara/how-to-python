{
 "cells": [
  {
   "cell_type": "markdown",
   "source": [
    "# HTML学习相关的积累\r\n",
    "\r\n",
    "这里附上HTML[相关资料](https://www.runoob.com/html/html-tutorial.html)"
   ],
   "metadata": {}
  }
 ],
 "metadata": {
  "orig_nbformat": 4,
  "language_info": {
   "name": "python",
   "version": "3.8.8",
   "mimetype": "text/x-python",
   "codemirror_mode": {
    "name": "ipython",
    "version": 3
   },
   "pygments_lexer": "ipython3",
   "nbconvert_exporter": "python",
   "file_extension": ".py"
  },
  "kernelspec": {
   "name": "python3",
   "display_name": "Python 3.8.8 64-bit ('base': conda)"
  },
  "interpreter": {
   "hash": "f287fdb4a3a6a33937c38bb36a019a1a66922e03ae88ed5d0bcf2295cd139372"
  }
 },
 "nbformat": 4,
 "nbformat_minor": 2
}