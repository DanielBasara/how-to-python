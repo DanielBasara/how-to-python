{
 "cells": [
  {
   "cell_type": "code",
   "execution_count": 2,
   "metadata": {},
   "outputs": [],
   "source": [
    "import imageio\n",
    "import os\n"
   ]
  },
  {
   "cell_type": "code",
   "execution_count": null,
   "metadata": {},
   "outputs": [],
   "source": [
    "gif_images = []\n",
    "a = os.listdir('graf')\n",
    "\n",
    "for i in a:\n",
    "    gif_images.append(imageio.imread('graf/'+i))\n",
    "\n",
    "imageio.mimsave('DCGAN.gif',gif_images,fps = 5)"
   ]
  }
 ],
 "metadata": {
  "interpreter": {
   "hash": "7840536f5fdff62de99e3cfd20a767ab81e1456a34f77ddc3c201d1204379396"
  },
  "kernelspec": {
   "display_name": "Python 3.8.8 64-bit ('base': conda)",
   "language": "python",
   "name": "python3"
  },
  "language_info": {
   "codemirror_mode": {
    "name": "ipython",
    "version": 3
   },
   "file_extension": ".py",
   "mimetype": "text/x-python",
   "name": "python",
   "nbconvert_exporter": "python",
   "pygments_lexer": "ipython3",
   "version": "3.8.8"
  },
  "orig_nbformat": 4
 },
 "nbformat": 4,
 "nbformat_minor": 2
}
