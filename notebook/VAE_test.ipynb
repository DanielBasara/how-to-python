{
 "cells": [
  {
   "cell_type": "code",
   "execution_count": 52,
   "metadata": {},
   "outputs": [],
   "source": [
    "import tensorflow as tf\n",
    "import os \n",
    "import time\n",
    "import glob\n",
    "import matplotlib.pyplot as plt\n",
    "import PIL\n",
    "from IPython import display\n",
    "import tensorflow.keras as keras\n",
    "import tensorflow.keras.layers as layers\n",
    "import numpy as np\n",
    "from tensorflow.keras import backend as K\n",
    "from tensorflow.keras.datasets import mnist\n",
    "from PIL import Image"
   ]
  },
  {
   "cell_type": "code",
   "execution_count": 53,
   "metadata": {},
   "outputs": [],
   "source": [
    "TRAIN_BUF = 60000\n",
    "BATCH_SIZE = 100\n",
    "\n",
    "TEST_BUF = 10000"
   ]
  },
  {
   "cell_type": "code",
   "execution_count": 54,
   "metadata": {},
   "outputs": [],
   "source": [
    "(train_images, _), (test_images, _) = mnist.load_data()\n",
    "train_images = train_images.reshape(train_images.shape[0], 28, 28, 1).astype('float32')\n",
    "test_images = test_images.reshape(test_images.shape[0], 28, 28, 1).astype('float32')\n",
    "\n",
    "# 标准化图片到区间 [0., 1.] 内\n",
    "train_images /= 255.\n",
    "test_images /= 255.\n",
    "\n",
    "# # 二值化\n",
    "# train_images[train_images >= .5] = 1.\n",
    "# train_images[train_images < .5] = 0.\n",
    "# test_images[test_images >= .5] = 1.\n",
    "# test_images[test_images < .5] = 0.\n",
    "# ランダム\n",
    "train_dataset = tf.data.Dataset.from_tensor_slices(train_images).shuffle(TRAIN_BUF).batch(BATCH_SIZE)\n",
    "test_dataset = tf.data.Dataset.from_tensor_slices(test_images).shuffle(TEST_BUF).batch(BATCH_SIZE)"
   ]
  },
  {
   "cell_type": "code",
   "execution_count": 55,
   "metadata": {},
   "outputs": [],
   "source": [
    "class CVAE(tf.keras.Model):\n",
    "  def __init__(self, latent_dim):\n",
    "    super(CVAE, self).__init__()\n",
    "    self.latent_dim = latent_dim\n",
    "    self.inference_net = tf.keras.Sequential(\n",
    "      [\n",
    "          tf.keras.layers.InputLayer(input_shape=(28, 28, 1)),\n",
    "          tf.keras.layers.Conv2D(\n",
    "              filters=32, kernel_size=3, strides=(2, 2), activation='relu'),\n",
    "          tf.keras.layers.Conv2D(\n",
    "              filters=64, kernel_size=3, strides=(2, 2), activation='relu'),\n",
    "          tf.keras.layers.Flatten(),\n",
    "          # No activation\n",
    "          tf.keras.layers.Dense(latent_dim + latent_dim),\n",
    "      ]\n",
    "    )\n",
    "\n",
    "    self.generative_net = tf.keras.Sequential(\n",
    "        [\n",
    "          tf.keras.layers.InputLayer(input_shape=(latent_dim,)),\n",
    "          tf.keras.layers.Dense(units=7*7*32, activation=tf.nn.relu),\n",
    "          tf.keras.layers.Reshape(target_shape=(7, 7, 32)),\n",
    "          tf.keras.layers.Conv2DTranspose(\n",
    "              filters=64,\n",
    "              kernel_size=3,\n",
    "              strides=(2, 2),\n",
    "              padding=\"SAME\",\n",
    "              activation='relu'),\n",
    "          tf.keras.layers.Conv2DTranspose(\n",
    "              filters=32,\n",
    "              kernel_size=3,\n",
    "              strides=(2, 2),\n",
    "              padding=\"SAME\",\n",
    "              activation='relu'),\n",
    "          # No activation\n",
    "          tf.keras.layers.Conv2DTranspose(\n",
    "              filters=1, kernel_size=3, strides=(1, 1), padding=\"SAME\"),\n",
    "        ]\n",
    "    )\n",
    "\n",
    "  @tf.function\n",
    "  def sample(self, eps=None):\n",
    "    if eps is None:\n",
    "      eps = tf.random.normal(shape=(100, self.latent_dim))\n",
    "    return self.decode(eps, apply_sigmoid=True)\n",
    "\n",
    "  def encode(self, x):\n",
    "    mean, logvar = tf.split(self.inference_net(x), num_or_size_splits=2, axis=1)\n",
    "    return mean, logvar\n",
    "\n",
    "  def reparameterize(self, mean, logvar):\n",
    "    eps = tf.random.normal(shape=mean.shape)\n",
    "    return eps * tf.exp(logvar * .5) + mean\n",
    "\n",
    "  def decode(self, z, apply_sigmoid=False):\n",
    "    logits = self.generative_net(z)\n",
    "    if apply_sigmoid:\n",
    "      probs = tf.sigmoid(logits)\n",
    "      return probs\n",
    "\n",
    "    return logits"
   ]
  },
  {
   "cell_type": "code",
   "execution_count": 64,
   "metadata": {},
   "outputs": [],
   "source": [
    "optimizer = tf.keras.optimizers.Adam(1e-4)\n",
    "\n",
    "def log_normal_pdf(sample, mean, logvar, raxis=1):\n",
    "  log2pi = tf.math.log(2. * np.pi)\n",
    "  return tf.reduce_sum(\n",
    "      -.5 * ((sample - mean) ** 2. * tf.exp(-logvar) + logvar + log2pi),\n",
    "      axis=raxis)\n",
    "\n",
    "@tf.function\n",
    "def compute_loss(model, x):\n",
    "  mean, logvar = model.encode(x)\n",
    "  z = model.reparameterize(mean, logvar)\n",
    "  x_logit = model.decode(z)\n",
    "\n",
    "  # squares = keras.losses.mean_squared_error(x,x_logit)\n",
    "  # logpx_z = tf.reduce_sum(squares,[1,2])\n",
    "  # logpz = log_normal_pdf(z, 0., 0.)\n",
    "  # logqz_x = log_normal_pdf(z, mean, logvar)\n",
    "  # return tf.reduce_mean(logpx_z + logqz_x)\n",
    "\n",
    "  cross_ent = tf.nn.sigmoid_cross_entropy_with_logits(logits=x_logit, labels=x)\n",
    "  logpx_z = -tf.reduce_sum(cross_ent, axis=[1, 2, 3])\n",
    "  logpz = log_normal_pdf(z, 0., 0.)\n",
    "  logqz_x = log_normal_pdf(z, mean, logvar)\n",
    "  return -tf.reduce_mean(logpx_z + logpz - logqz_x)\n",
    "\n",
    "@tf.function\n",
    "def compute_apply_gradients(model, x, optimizer):\n",
    "  with tf.GradientTape() as tape:\n",
    "    loss = compute_loss(model, x)\n",
    "  gradients = tape.gradient(loss, model.trainable_variables)\n",
    "  optimizer.apply_gradients(zip(gradients, model.trainable_variables))"
   ]
  },
  {
   "cell_type": "code",
   "execution_count": 65,
   "metadata": {},
   "outputs": [],
   "source": [
    "epochs = 10\n",
    "latent_dim = 50\n",
    "num_examples_to_generate = 16\n",
    "\n",
    "# 保持随机向量恒定以进行生成（预测），以便更易于看到改进。\n",
    "random_vector_for_generation = tf.random.normal(\n",
    "    shape=[num_examples_to_generate, latent_dim])\n",
    "model = CVAE(latent_dim)"
   ]
  },
  {
   "cell_type": "code",
   "execution_count": 66,
   "metadata": {},
   "outputs": [],
   "source": [
    "def generate_and_save_images(model, epoch, test_input):\n",
    "  predictions = model.sample(test_input)\n",
    "  fig = plt.figure(figsize=(4,4))\n",
    "\n",
    "  for i in range(predictions.shape[0]):\n",
    "      plt.subplot(4, 4, i+1)\n",
    "      plt.imshow(predictions[i, :, :, 0], cmap='gray')\n",
    "      plt.axis('off')\n",
    "\n",
    "  # tight_layout 最小化两个子图之间的重叠\n",
    "  plt.savefig('./graf/image_at_epoch_{:04d}.png'.format(epoch))\n",
    "  plt.show()\n",
    "  return predictions"
   ]
  },
  {
   "cell_type": "code",
   "execution_count": 67,
   "metadata": {},
   "outputs": [
    {
     "name": "stdout",
     "output_type": "stream",
     "text": [
      "Epoch: 3, Test set ELBO: -134.22779846191406, time elapse for current epoch 2.178295612335205\n"
     ]
    },
    {
     "data": {
      "image/png": "[encoded data removed]",
      "text/plain": [
       "<Figure size 288x288 with 16 Axes>"
      ]
     },
     "metadata": {
      "needs_background": "light"
     },
     "output_type": "display_data"
    },
    {
     "ename": "KeyboardInterrupt",
     "evalue": "",
     "output_type": "error",
     "traceback": [
      "\u001b[1;31m---------------------------------------------------------------------------\u001b[0m",
      "\u001b[1;31mKeyboardInterrupt\u001b[0m                         Traceback (most recent call last)",
      "\u001b[1;32m<ipython-input-67-4f851706bc88>\u001b[0m in \u001b[0;36m<module>\u001b[1;34m\u001b[0m\n\u001b[0;32m      4\u001b[0m   \u001b[0mstart_time\u001b[0m \u001b[1;33m=\u001b[0m \u001b[0mtime\u001b[0m\u001b[1;33m.\u001b[0m\u001b[0mtime\u001b[0m\u001b[1;33m(\u001b[0m\u001b[1;33m)\u001b[0m\u001b[1;33m\u001b[0m\u001b[1;33m\u001b[0m\u001b[0m\n\u001b[0;32m      5\u001b[0m   \u001b[1;32mfor\u001b[0m \u001b[0mtrain_x\u001b[0m \u001b[1;32min\u001b[0m \u001b[0mtrain_dataset\u001b[0m\u001b[1;33m:\u001b[0m\u001b[1;33m\u001b[0m\u001b[1;33m\u001b[0m\u001b[0m\n\u001b[1;32m----> 6\u001b[1;33m     \u001b[0mcompute_apply_gradients\u001b[0m\u001b[1;33m(\u001b[0m\u001b[0mmodel\u001b[0m\u001b[1;33m,\u001b[0m \u001b[0mtrain_x\u001b[0m\u001b[1;33m,\u001b[0m \u001b[0moptimizer\u001b[0m\u001b[1;33m)\u001b[0m\u001b[1;33m\u001b[0m\u001b[1;33m\u001b[0m\u001b[0m\n\u001b[0m\u001b[0;32m      7\u001b[0m   \u001b[0mend_time\u001b[0m \u001b[1;33m=\u001b[0m \u001b[0mtime\u001b[0m\u001b[1;33m.\u001b[0m\u001b[0mtime\u001b[0m\u001b[1;33m(\u001b[0m\u001b[1;33m)\u001b[0m\u001b[1;33m\u001b[0m\u001b[1;33m\u001b[0m\u001b[0m\n\u001b[0;32m      8\u001b[0m \u001b[1;33m\u001b[0m\u001b[0m\n",
      "\u001b[1;32m~\\AppData\\Roaming\\Python\\Python38\\site-packages\\tensorflow\\python\\eager\\def_function.py\u001b[0m in \u001b[0;36m__call__\u001b[1;34m(self, *args, **kwds)\u001b[0m\n\u001b[0;32m    778\u001b[0m       \u001b[1;32melse\u001b[0m\u001b[1;33m:\u001b[0m\u001b[1;33m\u001b[0m\u001b[1;33m\u001b[0m\u001b[0m\n\u001b[0;32m    779\u001b[0m         \u001b[0mcompiler\u001b[0m \u001b[1;33m=\u001b[0m \u001b[1;34m\"nonXla\"\u001b[0m\u001b[1;33m\u001b[0m\u001b[1;33m\u001b[0m\u001b[0m\n\u001b[1;32m--> 780\u001b[1;33m         \u001b[0mresult\u001b[0m \u001b[1;33m=\u001b[0m \u001b[0mself\u001b[0m\u001b[1;33m.\u001b[0m\u001b[0m_call\u001b[0m\u001b[1;33m(\u001b[0m\u001b[1;33m*\u001b[0m\u001b[0margs\u001b[0m\u001b[1;33m,\u001b[0m \u001b[1;33m**\u001b[0m\u001b[0mkwds\u001b[0m\u001b[1;33m)\u001b[0m\u001b[1;33m\u001b[0m\u001b[1;33m\u001b[0m\u001b[0m\n\u001b[0m\u001b[0;32m    781\u001b[0m \u001b[1;33m\u001b[0m\u001b[0m\n\u001b[0;32m    782\u001b[0m       \u001b[0mnew_tracing_count\u001b[0m \u001b[1;33m=\u001b[0m \u001b[0mself\u001b[0m\u001b[1;33m.\u001b[0m\u001b[0m_get_tracing_count\u001b[0m\u001b[1;33m(\u001b[0m\u001b[1;33m)\u001b[0m\u001b[1;33m\u001b[0m\u001b[1;33m\u001b[0m\u001b[0m\n",
      "\u001b[1;32m~\\AppData\\Roaming\\Python\\Python38\\site-packages\\tensorflow\\python\\eager\\def_function.py\u001b[0m in \u001b[0;36m_call\u001b[1;34m(self, *args, **kwds)\u001b[0m\n\u001b[0;32m    805\u001b[0m       \u001b[1;31m# In this case we have created variables on the first call, so we run the\u001b[0m\u001b[1;33m\u001b[0m\u001b[1;33m\u001b[0m\u001b[1;33m\u001b[0m\u001b[0m\n\u001b[0;32m    806\u001b[0m       \u001b[1;31m# defunned version which is guaranteed to never create variables.\u001b[0m\u001b[1;33m\u001b[0m\u001b[1;33m\u001b[0m\u001b[1;33m\u001b[0m\u001b[0m\n\u001b[1;32m--> 807\u001b[1;33m       \u001b[1;32mreturn\u001b[0m \u001b[0mself\u001b[0m\u001b[1;33m.\u001b[0m\u001b[0m_stateless_fn\u001b[0m\u001b[1;33m(\u001b[0m\u001b[1;33m*\u001b[0m\u001b[0margs\u001b[0m\u001b[1;33m,\u001b[0m \u001b[1;33m**\u001b[0m\u001b[0mkwds\u001b[0m\u001b[1;33m)\u001b[0m  \u001b[1;31m# pylint: disable=not-callable\u001b[0m\u001b[1;33m\u001b[0m\u001b[1;33m\u001b[0m\u001b[0m\n\u001b[0m\u001b[0;32m    808\u001b[0m     \u001b[1;32melif\u001b[0m \u001b[0mself\u001b[0m\u001b[1;33m.\u001b[0m\u001b[0m_stateful_fn\u001b[0m \u001b[1;32mis\u001b[0m \u001b[1;32mnot\u001b[0m \u001b[1;32mNone\u001b[0m\u001b[1;33m:\u001b[0m\u001b[1;33m\u001b[0m\u001b[1;33m\u001b[0m\u001b[0m\n\u001b[0;32m    809\u001b[0m       \u001b[1;31m# Release the lock early so that multiple threads can perform the call\u001b[0m\u001b[1;33m\u001b[0m\u001b[1;33m\u001b[0m\u001b[1;33m\u001b[0m\u001b[0m\n",
      "\u001b[1;32m~\\AppData\\Roaming\\Python\\Python38\\site-packages\\tensorflow\\python\\eager\\function.py\u001b[0m in \u001b[0;36m__call__\u001b[1;34m(self, *args, **kwargs)\u001b[0m\n\u001b[0;32m   2827\u001b[0m     \u001b[1;32mwith\u001b[0m \u001b[0mself\u001b[0m\u001b[1;33m.\u001b[0m\u001b[0m_lock\u001b[0m\u001b[1;33m:\u001b[0m\u001b[1;33m\u001b[0m\u001b[1;33m\u001b[0m\u001b[0m\n\u001b[0;32m   2828\u001b[0m       \u001b[0mgraph_function\u001b[0m\u001b[1;33m,\u001b[0m \u001b[0margs\u001b[0m\u001b[1;33m,\u001b[0m \u001b[0mkwargs\u001b[0m \u001b[1;33m=\u001b[0m \u001b[0mself\u001b[0m\u001b[1;33m.\u001b[0m\u001b[0m_maybe_define_function\u001b[0m\u001b[1;33m(\u001b[0m\u001b[0margs\u001b[0m\u001b[1;33m,\u001b[0m \u001b[0mkwargs\u001b[0m\u001b[1;33m)\u001b[0m\u001b[1;33m\u001b[0m\u001b[1;33m\u001b[0m\u001b[0m\n\u001b[1;32m-> 2829\u001b[1;33m     \u001b[1;32mreturn\u001b[0m \u001b[0mgraph_function\u001b[0m\u001b[1;33m.\u001b[0m\u001b[0m_filtered_call\u001b[0m\u001b[1;33m(\u001b[0m\u001b[0margs\u001b[0m\u001b[1;33m,\u001b[0m \u001b[0mkwargs\u001b[0m\u001b[1;33m)\u001b[0m  \u001b[1;31m# pylint: disable=protected-access\u001b[0m\u001b[1;33m\u001b[0m\u001b[1;33m\u001b[0m\u001b[0m\n\u001b[0m\u001b[0;32m   2830\u001b[0m \u001b[1;33m\u001b[0m\u001b[0m\n\u001b[0;32m   2831\u001b[0m   \u001b[1;33m@\u001b[0m\u001b[0mproperty\u001b[0m\u001b[1;33m\u001b[0m\u001b[1;33m\u001b[0m\u001b[0m\n",
      "\u001b[1;32m~\\AppData\\Roaming\\Python\\Python38\\site-packages\\tensorflow\\python\\eager\\function.py\u001b[0m in \u001b[0;36m_filtered_call\u001b[1;34m(self, args, kwargs, cancellation_manager)\u001b[0m\n\u001b[0;32m   1841\u001b[0m       \u001b[0;31m`\u001b[0m\u001b[0margs\u001b[0m\u001b[0;31m`\u001b[0m \u001b[1;32mand\u001b[0m\u001b[0;31m \u001b[0m\u001b[0;31m`\u001b[0m\u001b[0mkwargs\u001b[0m\u001b[0;31m`\u001b[0m\u001b[1;33m.\u001b[0m\u001b[1;33m\u001b[0m\u001b[1;33m\u001b[0m\u001b[0m\n\u001b[0;32m   1842\u001b[0m     \"\"\"\n\u001b[1;32m-> 1843\u001b[1;33m     return self._call_flat(\n\u001b[0m\u001b[0;32m   1844\u001b[0m         [t for t in nest.flatten((args, kwargs), expand_composites=True)\n\u001b[0;32m   1845\u001b[0m          if isinstance(t, (ops.Tensor,\n",
      "\u001b[1;32m~\\AppData\\Roaming\\Python\\Python38\\site-packages\\tensorflow\\python\\eager\\function.py\u001b[0m in \u001b[0;36m_call_flat\u001b[1;34m(self, args, captured_inputs, cancellation_manager)\u001b[0m\n\u001b[0;32m   1921\u001b[0m         and executing_eagerly):\n\u001b[0;32m   1922\u001b[0m       \u001b[1;31m# No tape is watching; skip to running the function.\u001b[0m\u001b[1;33m\u001b[0m\u001b[1;33m\u001b[0m\u001b[1;33m\u001b[0m\u001b[0m\n\u001b[1;32m-> 1923\u001b[1;33m       return self._build_call_outputs(self._inference_function.call(\n\u001b[0m\u001b[0;32m   1924\u001b[0m           ctx, args, cancellation_manager=cancellation_manager))\n\u001b[0;32m   1925\u001b[0m     forward_backward = self._select_forward_and_backward_functions(\n",
      "\u001b[1;32m~\\AppData\\Roaming\\Python\\Python38\\site-packages\\tensorflow\\python\\eager\\function.py\u001b[0m in \u001b[0;36mcall\u001b[1;34m(self, ctx, args, cancellation_manager)\u001b[0m\n\u001b[0;32m    543\u001b[0m       \u001b[1;32mwith\u001b[0m \u001b[0m_InterpolateFunctionError\u001b[0m\u001b[1;33m(\u001b[0m\u001b[0mself\u001b[0m\u001b[1;33m)\u001b[0m\u001b[1;33m:\u001b[0m\u001b[1;33m\u001b[0m\u001b[1;33m\u001b[0m\u001b[0m\n\u001b[0;32m    544\u001b[0m         \u001b[1;32mif\u001b[0m \u001b[0mcancellation_manager\u001b[0m \u001b[1;32mis\u001b[0m \u001b[1;32mNone\u001b[0m\u001b[1;33m:\u001b[0m\u001b[1;33m\u001b[0m\u001b[1;33m\u001b[0m\u001b[0m\n\u001b[1;32m--> 545\u001b[1;33m           outputs = execute.execute(\n\u001b[0m\u001b[0;32m    546\u001b[0m               \u001b[0mstr\u001b[0m\u001b[1;33m(\u001b[0m\u001b[0mself\u001b[0m\u001b[1;33m.\u001b[0m\u001b[0msignature\u001b[0m\u001b[1;33m.\u001b[0m\u001b[0mname\u001b[0m\u001b[1;33m)\u001b[0m\u001b[1;33m,\u001b[0m\u001b[1;33m\u001b[0m\u001b[1;33m\u001b[0m\u001b[0m\n\u001b[0;32m    547\u001b[0m               \u001b[0mnum_outputs\u001b[0m\u001b[1;33m=\u001b[0m\u001b[0mself\u001b[0m\u001b[1;33m.\u001b[0m\u001b[0m_num_outputs\u001b[0m\u001b[1;33m,\u001b[0m\u001b[1;33m\u001b[0m\u001b[1;33m\u001b[0m\u001b[0m\n",
      "\u001b[1;32m~\\AppData\\Roaming\\Python\\Python38\\site-packages\\tensorflow\\python\\eager\\execute.py\u001b[0m in \u001b[0;36mquick_execute\u001b[1;34m(op_name, num_outputs, inputs, attrs, ctx, name)\u001b[0m\n\u001b[0;32m     57\u001b[0m   \u001b[1;32mtry\u001b[0m\u001b[1;33m:\u001b[0m\u001b[1;33m\u001b[0m\u001b[1;33m\u001b[0m\u001b[0m\n\u001b[0;32m     58\u001b[0m     \u001b[0mctx\u001b[0m\u001b[1;33m.\u001b[0m\u001b[0mensure_initialized\u001b[0m\u001b[1;33m(\u001b[0m\u001b[1;33m)\u001b[0m\u001b[1;33m\u001b[0m\u001b[1;33m\u001b[0m\u001b[0m\n\u001b[1;32m---> 59\u001b[1;33m     tensors = pywrap_tfe.TFE_Py_Execute(ctx._handle, device_name, op_name,\n\u001b[0m\u001b[0;32m     60\u001b[0m                                         inputs, attrs, num_outputs)\n\u001b[0;32m     61\u001b[0m   \u001b[1;32mexcept\u001b[0m \u001b[0mcore\u001b[0m\u001b[1;33m.\u001b[0m\u001b[0m_NotOkStatusException\u001b[0m \u001b[1;32mas\u001b[0m \u001b[0me\u001b[0m\u001b[1;33m:\u001b[0m\u001b[1;33m\u001b[0m\u001b[1;33m\u001b[0m\u001b[0m\n",
      "\u001b[1;31mKeyboardInterrupt\u001b[0m: "
     ]
    }
   ],
   "source": [
    "generate_and_save_images(model, 0, random_vector_for_generation)\n",
    "\n",
    "for epoch in range(1, epochs + 1):\n",
    "  start_time = time.time()\n",
    "  for train_x in train_dataset:\n",
    "    compute_apply_gradients(model, train_x, optimizer)\n",
    "  end_time = time.time()\n",
    "\n",
    "  if epoch % 1 == 0:\n",
    "    loss = tf.keras.metrics.Mean()\n",
    "    for test_x in test_dataset:\n",
    "      loss(compute_loss(model, test_x))\n",
    "    elbo = -loss.result()\n",
    "    display.clear_output(wait=False)\n",
    "    print('Epoch: {}, Test set ELBO: {}, '\n",
    "          'time elapse for current epoch {}'.format(epoch,\n",
    "                                                    elbo,\n",
    "                                                    end_time - start_time))\n",
    "    generate_and_save_images(\n",
    "        model, epoch, random_vector_for_generation)"
   ]
  },
  {
   "cell_type": "code",
   "execution_count": null,
   "metadata": {},
   "outputs": [],
   "source": [
    "def display_image(epoch_no):\n",
    "  return PIL.Image.open('image_at_epoch_{:04d}.png'.format(epoch_no))"
   ]
  },
  {
   "cell_type": "code",
   "execution_count": 10,
   "metadata": {},
   "outputs": [
    {
     "data": {
      "text/plain": [
       "(-0.5, 287.5, 287.5, -0.5)"
      ]
     },
     "execution_count": 10,
     "metadata": {},
     "output_type": "execute_result"
    },
    {
     "data": {
      "image/png": "[encoded data removed]",
      "text/plain": [
       "<Figure size 432x288 with 1 Axes>"
      ]
     },
     "metadata": {
      "needs_background": "light"
     },
     "output_type": "display_data"
    }
   ],
   "source": [
    "plt.imshow(display_image(epochs))\n",
    "plt.axis('off')# 显示图片"
   ]
  },
  {
   "cell_type": "code",
   "execution_count": 24,
   "metadata": {},
   "outputs": [
    {
     "name": "stdout",
     "output_type": "stream",
     "text": [
      "Model: \"sequential_2\"\n",
      "_________________________________________________________________\n",
      "Layer (type)                 Output Shape              Param #   \n",
      "=================================================================\n",
      "conv2d_2 (Conv2D)            (None, 13, 13, 32)        320       \n",
      "_________________________________________________________________\n",
      "conv2d_3 (Conv2D)            (None, 6, 6, 64)          18496     \n",
      "_________________________________________________________________\n",
      "flatten_1 (Flatten)          (None, 2304)              0         \n",
      "_________________________________________________________________\n",
      "dense_2 (Dense)              (None, 100)               230500    \n",
      "=================================================================\n",
      "Total params: 249,316\n",
      "Trainable params: 249,316\n",
      "Non-trainable params: 0\n",
      "_________________________________________________________________\n",
      "Model: \"sequential_3\"\n",
      "_________________________________________________________________\n",
      "Layer (type)                 Output Shape              Param #   \n",
      "=================================================================\n",
      "dense_3 (Dense)              (None, 1568)              79968     \n",
      "_________________________________________________________________\n",
      "reshape_1 (Reshape)          (None, 7, 7, 32)          0         \n",
      "_________________________________________________________________\n",
      "conv2d_transpose_3 (Conv2DTr (None, 14, 14, 64)        18496     \n",
      "_________________________________________________________________\n",
      "conv2d_transpose_4 (Conv2DTr (None, 28, 28, 32)        18464     \n",
      "_________________________________________________________________\n",
      "conv2d_transpose_5 (Conv2DTr (None, 28, 28, 1)         289       \n",
      "=================================================================\n",
      "Total params: 117,217\n",
      "Trainable params: 117,217\n",
      "Non-trainable params: 0\n",
      "_________________________________________________________________\n"
     ]
    }
   ],
   "source": [
    "model.inference_net.summary()\n",
    "model.generative_net.summary()"
   ]
  },
  {
   "cell_type": "code",
   "execution_count": 10,
   "metadata": {},
   "outputs": [
    {
     "name": "stdout",
     "output_type": "stream",
     "text": [
      "(1, 50)\n"
     ]
    },
    {
     "data": {
      "image/png": "[encoded data removed]",
      "text/plain": [
       "<Figure size 288x288 with 1 Axes>"
      ]
     },
     "metadata": {
      "needs_background": "light"
     },
     "output_type": "display_data"
    },
    {
     "data": {
      "text/plain": [
       "<tf.Tensor: shape=(1, 28, 28, 1), dtype=float32, numpy=\n",
       "array([[[[3.53586930e-03],\n",
       "         [1.21394311e-04],\n",
       "         [3.26882691e-05],\n",
       "         [3.06951115e-05],\n",
       "         [8.30392237e-05],\n",
       "         [2.13570267e-04],\n",
       "         [7.24121172e-04],\n",
       "         [6.67941233e-04],\n",
       "         [2.88951705e-04],\n",
       "         [7.28785890e-05],\n",
       "         [7.41075346e-05],\n",
       "         [3.65925771e-05],\n",
       "         [1.42091167e-05],\n",
       "         [5.49314427e-06],\n",
       "         [1.29355049e-05],\n",
       "         [2.93615904e-05],\n",
       "         [1.32269444e-04],\n",
       "         [2.55029765e-04],\n",
       "         [1.53898296e-03],\n",
       "         [1.35746785e-03],\n",
       "         [2.81362096e-04],\n",
       "         [6.79208097e-05],\n",
       "         [7.78123867e-05],\n",
       "         [6.67629211e-05],\n",
       "         [6.46978660e-05],\n",
       "         [2.66065999e-05],\n",
       "         [3.46931629e-05],\n",
       "         [8.62170593e-04]],\n",
       "\n",
       "        [[8.07013130e-05],\n",
       "         [5.15430486e-07],\n",
       "         [5.85268616e-08],\n",
       "         [7.02748366e-08],\n",
       "         [2.33874658e-07],\n",
       "         [1.57871898e-06],\n",
       "         [7.40820587e-06],\n",
       "         [4.03711874e-06],\n",
       "         [1.04677804e-06],\n",
       "         [1.72164263e-07],\n",
       "         [1.50372699e-07],\n",
       "         [3.28157590e-08],\n",
       "         [5.97847372e-09],\n",
       "         [2.55704791e-09],\n",
       "         [5.89339111e-09],\n",
       "         [3.41984361e-08],\n",
       "         [6.54266842e-07],\n",
       "         [9.13827989e-06],\n",
       "         [1.04115890e-04],\n",
       "         [2.57250667e-05],\n",
       "         [1.89118930e-06],\n",
       "         [4.09573119e-07],\n",
       "         [4.73367805e-07],\n",
       "         [3.57191425e-07],\n",
       "         [3.53605543e-07],\n",
       "         [1.68415056e-07],\n",
       "         [1.29713086e-07],\n",
       "         [3.67935318e-05]],\n",
       "\n",
       "        [[9.60111811e-06],\n",
       "         [3.32690746e-08],\n",
       "         [4.83856999e-09],\n",
       "         [4.48983073e-09],\n",
       "         [2.28336656e-08],\n",
       "         [1.49914356e-07],\n",
       "         [1.30281182e-06],\n",
       "         [4.31392891e-07],\n",
       "         [5.91632379e-08],\n",
       "         [5.52543078e-09],\n",
       "         [6.54336452e-09],\n",
       "         [8.09433354e-10],\n",
       "         [1.20375349e-10],\n",
       "         [2.91336122e-11],\n",
       "         [1.66929318e-10],\n",
       "         [3.99720967e-09],\n",
       "         [4.66600824e-07],\n",
       "         [1.24564604e-05],\n",
       "         [1.05619845e-04],\n",
       "         [1.25122760e-05],\n",
       "         [3.50585537e-07],\n",
       "         [8.64380425e-08],\n",
       "         [1.46317774e-07],\n",
       "         [1.48413591e-07],\n",
       "         [1.78022617e-07],\n",
       "         [3.88270749e-08],\n",
       "         [2.07182804e-08],\n",
       "         [5.81738959e-06]],\n",
       "\n",
       "        [[8.51172808e-06],\n",
       "         [2.92118312e-08],\n",
       "         [4.09609235e-09],\n",
       "         [1.12187930e-08],\n",
       "         [1.17373361e-07],\n",
       "         [8.39430413e-07],\n",
       "         [1.79914684e-06],\n",
       "         [1.42820269e-07],\n",
       "         [1.04163362e-08],\n",
       "         [1.30276057e-09],\n",
       "         [9.95377003e-10],\n",
       "         [1.84296287e-10],\n",
       "         [5.64750954e-11],\n",
       "         [4.77087918e-11],\n",
       "         [6.84469648e-10],\n",
       "         [8.28488638e-08],\n",
       "         [2.40464306e-05],\n",
       "         [6.94122806e-04],\n",
       "         [1.02703017e-03],\n",
       "         [5.51200137e-05],\n",
       "         [1.17088882e-06],\n",
       "         [2.79156069e-07],\n",
       "         [2.21807028e-07],\n",
       "         [2.45718041e-07],\n",
       "         [5.57913040e-07],\n",
       "         [2.30860024e-07],\n",
       "         [5.39950733e-08],\n",
       "         [1.08410759e-05]],\n",
       "\n",
       "        [[1.11919908e-05],\n",
       "         [7.20649567e-08],\n",
       "         [2.76629581e-08],\n",
       "         [1.54194041e-07],\n",
       "         [2.72301941e-06],\n",
       "         [7.03866272e-06],\n",
       "         [4.98576583e-06],\n",
       "         [1.86251597e-07],\n",
       "         [1.02735429e-08],\n",
       "         [1.31668243e-09],\n",
       "         [1.47191936e-09],\n",
       "         [6.80439538e-10],\n",
       "         [1.31674260e-09],\n",
       "         [6.38803410e-09],\n",
       "         [4.26451180e-07],\n",
       "         [9.33774281e-05],\n",
       "         [1.91040784e-02],\n",
       "         [1.09234415e-01],\n",
       "         [3.22965868e-02],\n",
       "         [1.02508545e-03],\n",
       "         [1.57469458e-05],\n",
       "         [1.33389790e-06],\n",
       "         [3.20295214e-07],\n",
       "         [2.93915207e-07],\n",
       "         [7.26461678e-07],\n",
       "         [4.67782428e-07],\n",
       "         [1.58292053e-07],\n",
       "         [2.24510841e-05]],\n",
       "\n",
       "        [[1.46820394e-05],\n",
       "         [2.94396585e-07],\n",
       "         [1.37556810e-07],\n",
       "         [1.91043137e-06],\n",
       "         [2.02955816e-05],\n",
       "         [1.98155194e-05],\n",
       "         [7.08397101e-06],\n",
       "         [4.59038404e-07],\n",
       "         [8.22006854e-08],\n",
       "         [5.07342151e-08],\n",
       "         [6.34966284e-08],\n",
       "         [1.16590641e-07],\n",
       "         [3.96195048e-07],\n",
       "         [8.40735902e-06],\n",
       "         [6.28444308e-04],\n",
       "         [5.92162088e-02],\n",
       "         [7.53535628e-01],\n",
       "         [8.40955853e-01],\n",
       "         [3.77366185e-01],\n",
       "         [1.77831557e-02],\n",
       "         [1.60620082e-04],\n",
       "         [1.86645923e-06],\n",
       "         [6.80040628e-08],\n",
       "         [3.51262166e-08],\n",
       "         [7.88531480e-08],\n",
       "         [1.31729266e-07],\n",
       "         [1.24290835e-07],\n",
       "         [2.36568867e-05]],\n",
       "\n",
       "        [[3.62415412e-05],\n",
       "         [8.18587978e-07],\n",
       "         [9.13687813e-07],\n",
       "         [7.76135403e-06],\n",
       "         [5.05514945e-05],\n",
       "         [3.44326763e-05],\n",
       "         [2.28851932e-05],\n",
       "         [1.20169470e-05],\n",
       "         [1.44378728e-05],\n",
       "         [2.71839526e-05],\n",
       "         [6.25421453e-05],\n",
       "         [1.46594190e-04],\n",
       "         [5.21367416e-04],\n",
       "         [4.86664148e-03],\n",
       "         [8.62675086e-02],\n",
       "         [5.98375976e-01],\n",
       "         [9.18089211e-01],\n",
       "         [9.23152268e-01],\n",
       "         [7.39171982e-01],\n",
       "         [8.00347254e-02],\n",
       "         [4.53134329e-04],\n",
       "         [1.18595801e-06],\n",
       "         [1.06043716e-08],\n",
       "         [1.61881808e-09],\n",
       "         [4.48153203e-09],\n",
       "         [1.79624244e-08],\n",
       "         [9.44360821e-08],\n",
       "         [3.27345952e-05]],\n",
       "\n",
       "        [[1.26839441e-04],\n",
       "         [5.53669179e-06],\n",
       "         [8.02367776e-06],\n",
       "         [5.61819070e-05],\n",
       "         [2.88638083e-04],\n",
       "         [4.17469768e-04],\n",
       "         [4.45154961e-04],\n",
       "         [1.26131263e-03],\n",
       "         [5.75994328e-03],\n",
       "         [2.66255084e-02],\n",
       "         [4.05152999e-02],\n",
       "         [4.20842469e-02],\n",
       "         [3.81174833e-02],\n",
       "         [6.35168552e-02],\n",
       "         [9.07557458e-02],\n",
       "         [1.64178178e-01],\n",
       "         [3.63178670e-01],\n",
       "         [6.05985522e-01],\n",
       "         [6.54902637e-01],\n",
       "         [8.68725851e-02],\n",
       "         [3.21506406e-04],\n",
       "         [3.38618378e-07],\n",
       "         [1.64892133e-09],\n",
       "         [2.05370068e-10],\n",
       "         [4.44550952e-10],\n",
       "         [2.46121457e-09],\n",
       "         [1.46270134e-08],\n",
       "         [1.06850803e-05]],\n",
       "\n",
       "        [[5.91820048e-04],\n",
       "         [4.62689895e-05],\n",
       "         [1.14336210e-04],\n",
       "         [8.13022547e-04],\n",
       "         [6.86525088e-03],\n",
       "         [1.79149974e-02],\n",
       "         [3.24463099e-02],\n",
       "         [1.05064757e-01],\n",
       "         [4.43923563e-01],\n",
       "         [8.03778648e-01],\n",
       "         [7.19870031e-01],\n",
       "         [3.23373735e-01],\n",
       "         [7.94019401e-02],\n",
       "         [1.19675808e-02],\n",
       "         [2.64415424e-03],\n",
       "         [1.66595250e-03],\n",
       "         [5.57089178e-03],\n",
       "         [5.92075810e-02],\n",
       "         [3.35156351e-01],\n",
       "         [6.98601976e-02],\n",
       "         [2.12674713e-04],\n",
       "         [2.21691351e-07],\n",
       "         [1.35273814e-09],\n",
       "         [1.02302007e-10],\n",
       "         [1.50417387e-10],\n",
       "         [2.94214930e-10],\n",
       "         [2.45392573e-09],\n",
       "         [2.56107705e-06]],\n",
       "\n",
       "        [[1.19771995e-03],\n",
       "         [2.07969133e-04],\n",
       "         [5.92608529e-04],\n",
       "         [7.02159945e-03],\n",
       "         [8.99099708e-02],\n",
       "         [2.79444098e-01],\n",
       "         [3.39892924e-01],\n",
       "         [5.75444579e-01],\n",
       "         [8.63314867e-01],\n",
       "         [9.44788516e-01],\n",
       "         [7.85828829e-01],\n",
       "         [1.69721916e-01],\n",
       "         [1.08234352e-02],\n",
       "         [3.88189714e-04],\n",
       "         [3.55027514e-05],\n",
       "         [2.54066108e-05],\n",
       "         [2.62659974e-04],\n",
       "         [1.24448529e-02],\n",
       "         [2.17749029e-01],\n",
       "         [7.86740854e-02],\n",
       "         [3.76655866e-04],\n",
       "         [7.00204851e-07],\n",
       "         [6.93607660e-09],\n",
       "         [4.97191122e-10],\n",
       "         [2.87345148e-10],\n",
       "         [3.18727711e-10],\n",
       "         [1.24803246e-09],\n",
       "         [2.39069277e-06]],\n",
       "\n",
       "        [[2.11241213e-03],\n",
       "         [3.73146555e-04],\n",
       "         [9.97570925e-04],\n",
       "         [1.21130580e-02],\n",
       "         [1.53949142e-01],\n",
       "         [4.27134097e-01],\n",
       "         [4.82632577e-01],\n",
       "         [6.43196404e-01],\n",
       "         [8.89862180e-01],\n",
       "         [9.01642740e-01],\n",
       "         [5.21191716e-01],\n",
       "         [2.50591114e-02],\n",
       "         [8.71080148e-04],\n",
       "         [2.08245729e-05],\n",
       "         [2.27386727e-06],\n",
       "         [5.39950361e-06],\n",
       "         [1.60104784e-04],\n",
       "         [1.81490835e-02],\n",
       "         [3.70475799e-01],\n",
       "         [1.88603282e-01],\n",
       "         [1.53615582e-03],\n",
       "         [6.74133662e-06],\n",
       "         [1.00246368e-07],\n",
       "         [6.52586607e-09],\n",
       "         [2.43584175e-09],\n",
       "         [1.61167657e-09],\n",
       "         [8.96961794e-09],\n",
       "         [8.19687011e-06]],\n",
       "\n",
       "        [[2.25096149e-03],\n",
       "         [3.56053497e-04],\n",
       "         [4.94627515e-04],\n",
       "         [4.34900494e-03],\n",
       "         [3.11503131e-02],\n",
       "         [9.30439010e-02],\n",
       "         [1.18781179e-01],\n",
       "         [3.56153667e-01],\n",
       "         [8.11476409e-01],\n",
       "         [7.91068375e-01],\n",
       "         [2.58844316e-01],\n",
       "         [8.32596142e-03],\n",
       "         [3.76825512e-04],\n",
       "         [2.66558964e-05],\n",
       "         [8.74031684e-06],\n",
       "         [5.74946280e-05],\n",
       "         [3.70240398e-03],\n",
       "         [2.10634246e-01],\n",
       "         [6.88148856e-01],\n",
       "         [4.49026942e-01],\n",
       "         [1.48607660e-02],\n",
       "         [1.89581449e-04],\n",
       "         [7.89444039e-06],\n",
       "         [6.38918209e-07],\n",
       "         [1.45889587e-07],\n",
       "         [9.52426689e-08],\n",
       "         [1.02230764e-07],\n",
       "         [2.20332950e-05]],\n",
       "\n",
       "        [[1.67382078e-03],\n",
       "         [1.28459884e-04],\n",
       "         [1.43916928e-04],\n",
       "         [4.73815453e-04],\n",
       "         [2.52575870e-03],\n",
       "         [6.32030051e-03],\n",
       "         [1.41134597e-02],\n",
       "         [1.51564270e-01],\n",
       "         [7.68872499e-01],\n",
       "         [8.10779154e-01],\n",
       "         [3.17511916e-01],\n",
       "         [2.45367736e-02],\n",
       "         [2.90700025e-03],\n",
       "         [6.70312787e-04],\n",
       "         [8.66008631e-04],\n",
       "         [8.16108007e-03],\n",
       "         [2.29327142e-01],\n",
       "         [8.48890841e-01],\n",
       "         [9.30640578e-01],\n",
       "         [8.07544053e-01],\n",
       "         [2.12626949e-01],\n",
       "         [1.28137749e-02],\n",
       "         [1.32920034e-03],\n",
       "         [2.68003816e-04],\n",
       "         [5.03473639e-05],\n",
       "         [8.01440183e-06],\n",
       "         [1.58039711e-06],\n",
       "         [8.56316619e-05]],\n",
       "\n",
       "        [[1.27046334e-03],\n",
       "         [1.24529339e-04],\n",
       "         [8.03214280e-05],\n",
       "         [1.16519441e-04],\n",
       "         [2.72353442e-04],\n",
       "         [6.08544680e-04],\n",
       "         [3.48858908e-03],\n",
       "         [1.13711178e-01],\n",
       "         [8.16002309e-01],\n",
       "         [9.02218282e-01],\n",
       "         [6.05439007e-01],\n",
       "         [1.90029532e-01],\n",
       "         [5.32902814e-02],\n",
       "         [4.63097654e-02],\n",
       "         [7.64762908e-02],\n",
       "         [3.17096084e-01],\n",
       "         [8.05111110e-01],\n",
       "         [9.52934623e-01],\n",
       "         [9.48311925e-01],\n",
       "         [9.02010679e-01],\n",
       "         [6.17847204e-01],\n",
       "         [2.53566027e-01],\n",
       "         [1.01788461e-01],\n",
       "         [5.62654920e-02],\n",
       "         [6.97962148e-03],\n",
       "         [1.93120723e-04],\n",
       "         [9.45963711e-06],\n",
       "         [1.20110359e-04]],\n",
       "\n",
       "        [[1.87432102e-03],\n",
       "         [1.01677426e-04],\n",
       "         [3.97872354e-05],\n",
       "         [2.02489500e-05],\n",
       "         [3.27165544e-05],\n",
       "         [1.43142723e-04],\n",
       "         [2.09911168e-03],\n",
       "         [1.15208536e-01],\n",
       "         [8.01518738e-01],\n",
       "         [9.44358468e-01],\n",
       "         [8.28781009e-01],\n",
       "         [6.37215495e-01],\n",
       "         [4.35998261e-01],\n",
       "         [3.91615629e-01],\n",
       "         [4.22087282e-01],\n",
       "         [5.52565515e-01],\n",
       "         [7.89825797e-01],\n",
       "         [8.92344713e-01],\n",
       "         [8.76578271e-01],\n",
       "         [8.49632204e-01],\n",
       "         [7.45227098e-01],\n",
       "         [6.50240242e-01],\n",
       "         [6.36487722e-01],\n",
       "         [5.30631721e-01],\n",
       "         [8.70408192e-02],\n",
       "         [1.63535925e-03],\n",
       "         [3.72925388e-05],\n",
       "         [3.33581702e-04]],\n",
       "\n",
       "        [[1.00517937e-03],\n",
       "         [1.10153042e-05],\n",
       "         [7.89874775e-07],\n",
       "         [3.70440091e-07],\n",
       "         [1.13638271e-06],\n",
       "         [1.98456273e-05],\n",
       "         [5.77940838e-04],\n",
       "         [3.19131203e-02],\n",
       "         [4.51200604e-01],\n",
       "         [8.07626307e-01],\n",
       "         [6.73709571e-01],\n",
       "         [4.79901314e-01],\n",
       "         [3.21013510e-01],\n",
       "         [2.30412409e-01],\n",
       "         [1.86761022e-01],\n",
       "         [2.86154211e-01],\n",
       "         [4.80265141e-01],\n",
       "         [6.10423148e-01],\n",
       "         [3.92540812e-01],\n",
       "         [2.37147525e-01],\n",
       "         [2.23283991e-01],\n",
       "         [3.90119195e-01],\n",
       "         [5.59984267e-01],\n",
       "         [5.59629679e-01],\n",
       "         [1.07740447e-01],\n",
       "         [1.74113456e-03],\n",
       "         [5.37581182e-05],\n",
       "         [3.49307898e-04]],\n",
       "\n",
       "        [[1.31731736e-04],\n",
       "         [2.23315283e-07],\n",
       "         [5.76297943e-09],\n",
       "         [2.58789523e-09],\n",
       "         [3.23045306e-08],\n",
       "         [7.01849558e-07],\n",
       "         [2.68815347e-05],\n",
       "         [6.67587039e-04],\n",
       "         [8.99875071e-03],\n",
       "         [2.68085971e-02],\n",
       "         [1.99216884e-02],\n",
       "         [1.01598855e-02],\n",
       "         [9.62251239e-03],\n",
       "         [8.45976267e-03],\n",
       "         [1.71154775e-02],\n",
       "         [9.42507833e-02],\n",
       "         [2.56319493e-01],\n",
       "         [1.66917831e-01],\n",
       "         [2.01190505e-02],\n",
       "         [4.37770598e-03],\n",
       "         [5.33235678e-03],\n",
       "         [2.27809958e-02],\n",
       "         [1.09917164e-01],\n",
       "         [2.01043591e-01],\n",
       "         [3.11375894e-02],\n",
       "         [5.51216013e-04],\n",
       "         [1.73138687e-05],\n",
       "         [2.75813742e-04]],\n",
       "\n",
       "        [[3.11763324e-05],\n",
       "         [3.44349189e-08],\n",
       "         [5.19085774e-10],\n",
       "         [4.23364954e-10],\n",
       "         [5.40520251e-09],\n",
       "         [9.79719914e-08],\n",
       "         [6.28025532e-07],\n",
       "         [3.70644716e-06],\n",
       "         [1.11851514e-05],\n",
       "         [1.46606608e-05],\n",
       "         [1.45899585e-05],\n",
       "         [2.37566783e-05],\n",
       "         [6.46217813e-05],\n",
       "         [2.79576925e-04],\n",
       "         [3.84653942e-03],\n",
       "         [9.69359800e-02],\n",
       "         [2.10543305e-01],\n",
       "         [2.67582666e-02],\n",
       "         [5.39211323e-04],\n",
       "         [5.57848762e-05],\n",
       "         [1.21039477e-04],\n",
       "         [1.52659439e-03],\n",
       "         [1.91346090e-02],\n",
       "         [5.12780175e-02],\n",
       "         [4.73006582e-03],\n",
       "         [7.62561904e-05],\n",
       "         [4.50528842e-06],\n",
       "         [1.43277764e-04]],\n",
       "\n",
       "        [[6.62052626e-05],\n",
       "         [1.08668104e-07],\n",
       "         [2.48013010e-09],\n",
       "         [1.13004817e-09],\n",
       "         [7.06213488e-09],\n",
       "         [1.70715122e-08],\n",
       "         [2.80984285e-08],\n",
       "         [1.71832362e-08],\n",
       "         [2.11124522e-08],\n",
       "         [1.62383174e-08],\n",
       "         [3.49835290e-08],\n",
       "         [1.13567374e-07],\n",
       "         [1.42329588e-06],\n",
       "         [4.79100017e-05],\n",
       "         [4.73415758e-03],\n",
       "         [1.92629188e-01],\n",
       "         [2.30849370e-01],\n",
       "         [6.76604593e-03],\n",
       "         [4.75642955e-05],\n",
       "         [4.02059368e-06],\n",
       "         [1.10648934e-05],\n",
       "         [2.79881759e-04],\n",
       "         [5.99434925e-03],\n",
       "         [1.08874161e-02],\n",
       "         [6.00198167e-04],\n",
       "         [2.36842916e-05],\n",
       "         [3.96037058e-06],\n",
       "         [1.99960064e-04]],\n",
       "\n",
       "        [[2.43456278e-04],\n",
       "         [8.37685434e-07],\n",
       "         [2.57552699e-08],\n",
       "         [1.25422561e-08],\n",
       "         [3.27399192e-08],\n",
       "         [2.39484699e-08],\n",
       "         [5.48075896e-09],\n",
       "         [7.38035577e-10],\n",
       "         [4.14265872e-10],\n",
       "         [4.02240741e-10],\n",
       "         [1.04737874e-09],\n",
       "         [8.85651641e-09],\n",
       "         [4.38820337e-07],\n",
       "         [1.26692335e-04],\n",
       "         [3.09699476e-02],\n",
       "         [5.49662173e-01],\n",
       "         [4.24367070e-01],\n",
       "         [8.98609962e-03],\n",
       "         [2.72468915e-05],\n",
       "         [1.77584582e-06],\n",
       "         [9.34126547e-06],\n",
       "         [4.23683989e-04],\n",
       "         [4.29626601e-03],\n",
       "         [3.73475999e-03],\n",
       "         [3.10847478e-04],\n",
       "         [6.13095035e-05],\n",
       "         [2.42559254e-05],\n",
       "         [6.42630970e-04]],\n",
       "\n",
       "        [[3.15820274e-04],\n",
       "         [1.45751108e-06],\n",
       "         [9.76637651e-08],\n",
       "         [7.67224151e-08],\n",
       "         [1.20491748e-07],\n",
       "         [3.38736541e-08],\n",
       "         [3.30002758e-09],\n",
       "         [1.65494160e-10],\n",
       "         [1.00054444e-10],\n",
       "         [1.34483966e-10],\n",
       "         [6.85763279e-10],\n",
       "         [1.59670321e-08],\n",
       "         [3.09140728e-06],\n",
       "         [1.81882165e-03],\n",
       "         [4.06041890e-01],\n",
       "         [9.49788690e-01],\n",
       "         [7.38915622e-01],\n",
       "         [1.09573603e-02],\n",
       "         [1.40603688e-05],\n",
       "         [8.82018071e-07],\n",
       "         [3.26600775e-06],\n",
       "         [5.40221627e-05],\n",
       "         [2.22426956e-04],\n",
       "         [2.28665143e-04],\n",
       "         [7.65858131e-05],\n",
       "         [4.58046452e-05],\n",
       "         [3.16663063e-05],\n",
       "         [1.06811442e-03]],\n",
       "\n",
       "        [[1.45374914e-04],\n",
       "         [1.25090571e-06],\n",
       "         [1.74617128e-07],\n",
       "         [5.36072776e-07],\n",
       "         [1.15090904e-06],\n",
       "         [1.79938411e-07],\n",
       "         [7.79659626e-09],\n",
       "         [2.03784670e-10],\n",
       "         [1.01817110e-10],\n",
       "         [3.72331360e-10],\n",
       "         [4.38522152e-09],\n",
       "         [4.12065646e-07],\n",
       "         [1.91619416e-04],\n",
       "         [1.13467366e-01],\n",
       "         [9.34487879e-01],\n",
       "         [9.85283852e-01],\n",
       "         [6.58358932e-01],\n",
       "         [2.23828852e-03],\n",
       "         [2.25006966e-06],\n",
       "         [1.12272524e-07],\n",
       "         [8.30022842e-08],\n",
       "         [2.90602941e-07],\n",
       "         [6.01784905e-07],\n",
       "         [2.89310424e-06],\n",
       "         [7.55430347e-06],\n",
       "         [3.13210112e-05],\n",
       "         [2.37520126e-05],\n",
       "         [5.46006311e-04]],\n",
       "\n",
       "        [[1.17187454e-04],\n",
       "         [1.84457394e-06],\n",
       "         [1.19807953e-06],\n",
       "         [6.66532742e-06],\n",
       "         [1.93447668e-05],\n",
       "         [1.20481786e-06],\n",
       "         [1.80585076e-08],\n",
       "         [6.34763409e-10],\n",
       "         [4.48994009e-10],\n",
       "         [4.55141969e-09],\n",
       "         [2.39008131e-07],\n",
       "         [5.33066850e-05],\n",
       "         [2.24074554e-02],\n",
       "         [8.03051233e-01],\n",
       "         [9.80616689e-01],\n",
       "         [9.52627361e-01],\n",
       "         [1.72674969e-01],\n",
       "         [2.12620187e-04],\n",
       "         [2.18419032e-07],\n",
       "         [3.50685592e-09],\n",
       "         [8.87707741e-10],\n",
       "         [6.82929491e-10],\n",
       "         [1.92158378e-09],\n",
       "         [4.01551290e-08],\n",
       "         [9.99909162e-07],\n",
       "         [8.33244030e-06],\n",
       "         [1.10509627e-05],\n",
       "         [2.94686703e-04]],\n",
       "\n",
       "        [[1.29358305e-04],\n",
       "         [3.96653923e-06],\n",
       "         [4.57155602e-06],\n",
       "         [4.49860854e-05],\n",
       "         [1.50315216e-04],\n",
       "         [6.37485800e-06],\n",
       "         [6.69101823e-08],\n",
       "         [4.45629311e-09],\n",
       "         [7.50489626e-09],\n",
       "         [3.22532827e-07],\n",
       "         [2.06167551e-05],\n",
       "         [3.61855002e-03],\n",
       "         [3.98541033e-01],\n",
       "         [9.58644807e-01],\n",
       "         [9.53958154e-01],\n",
       "         [5.86339414e-01],\n",
       "         [1.25142131e-02],\n",
       "         [3.06185721e-05],\n",
       "         [7.82987684e-08],\n",
       "         [5.73951164e-10],\n",
       "         [4.05528389e-11],\n",
       "         [2.38625300e-11],\n",
       "         [6.15844042e-11],\n",
       "         [3.91013666e-09],\n",
       "         [3.65585976e-07],\n",
       "         [5.80692449e-06],\n",
       "         [4.55066811e-06],\n",
       "         [1.05048923e-04]],\n",
       "\n",
       "        [[5.73530742e-05],\n",
       "         [1.52246139e-06],\n",
       "         [3.32808054e-06],\n",
       "         [2.89421951e-05],\n",
       "         [1.36336312e-04],\n",
       "         [8.79088293e-06],\n",
       "         [2.82874737e-07],\n",
       "         [8.34322691e-08],\n",
       "         [2.42648838e-07],\n",
       "         [6.00618660e-06],\n",
       "         [2.28393430e-04],\n",
       "         [1.55994641e-02],\n",
       "         [4.29769188e-01],\n",
       "         [8.71318102e-01],\n",
       "         [5.65700054e-01],\n",
       "         [5.32857701e-02],\n",
       "         [8.21705966e-04],\n",
       "         [5.49082370e-06],\n",
       "         [4.25075868e-08],\n",
       "         [3.75283776e-10],\n",
       "         [2.85022457e-11],\n",
       "         [1.09784759e-11],\n",
       "         [4.00159905e-11],\n",
       "         [2.25269070e-09],\n",
       "         [2.31524112e-07],\n",
       "         [1.10489066e-06],\n",
       "         [5.53604536e-07],\n",
       "         [2.62320100e-05]],\n",
       "\n",
       "        [[2.95641676e-05],\n",
       "         [8.64563276e-07],\n",
       "         [5.22684729e-07],\n",
       "         [5.52419715e-06],\n",
       "         [2.12176001e-05],\n",
       "         [4.84679367e-06],\n",
       "         [1.01977651e-06],\n",
       "         [1.33185131e-06],\n",
       "         [3.12869474e-06],\n",
       "         [1.66462141e-05],\n",
       "         [1.10335386e-04],\n",
       "         [2.58270674e-03],\n",
       "         [6.12825193e-02],\n",
       "         [2.19087228e-01],\n",
       "         [2.81043593e-02],\n",
       "         [2.04518763e-03],\n",
       "         [7.14790440e-05],\n",
       "         [1.74490094e-06],\n",
       "         [4.23816147e-08],\n",
       "         [7.17200299e-10],\n",
       "         [7.06870396e-11],\n",
       "         [7.39407563e-11],\n",
       "         [3.99191236e-10],\n",
       "         [2.65504365e-08],\n",
       "         [3.72899251e-07],\n",
       "         [2.80801629e-07],\n",
       "         [3.87176300e-08],\n",
       "         [4.89357308e-06]],\n",
       "\n",
       "        [[4.55309309e-05],\n",
       "         [7.50380252e-07],\n",
       "         [3.70763871e-07],\n",
       "         [7.47948263e-07],\n",
       "         [2.35872517e-06],\n",
       "         [2.50201219e-06],\n",
       "         [4.13166936e-06],\n",
       "         [7.35875437e-06],\n",
       "         [1.12100861e-05],\n",
       "         [6.93848006e-06],\n",
       "         [1.13171900e-05],\n",
       "         [1.30371511e-04],\n",
       "         [1.95966661e-03],\n",
       "         [3.73807433e-03],\n",
       "         [4.68960614e-04],\n",
       "         [4.47287348e-05],\n",
       "         [4.66749998e-06],\n",
       "         [2.71994395e-07],\n",
       "         [1.51770578e-08],\n",
       "         [8.95105323e-10],\n",
       "         [4.72180628e-10],\n",
       "         [1.54680102e-09],\n",
       "         [2.35813218e-08],\n",
       "         [2.23337224e-07],\n",
       "         [3.00162128e-07],\n",
       "         [3.53301459e-08],\n",
       "         [6.72350975e-09],\n",
       "         [1.57963598e-06]],\n",
       "\n",
       "        [[1.04432483e-03],\n",
       "         [4.19486096e-05],\n",
       "         [2.13918393e-05],\n",
       "         [1.91532872e-05],\n",
       "         [2.28463778e-05],\n",
       "         [2.95867321e-05],\n",
       "         [1.03025654e-04],\n",
       "         [1.14627444e-04],\n",
       "         [1.19838995e-04],\n",
       "         [3.03171801e-05],\n",
       "         [3.40535153e-05],\n",
       "         [1.43113779e-04],\n",
       "         [9.46431188e-04],\n",
       "         [6.71377929e-04],\n",
       "         [2.36282431e-04],\n",
       "         [5.23054114e-05],\n",
       "         [1.49087364e-05],\n",
       "         [1.47055846e-06],\n",
       "         [3.69640446e-07],\n",
       "         [1.27965407e-07],\n",
       "         [1.91195937e-07],\n",
       "         [7.18359104e-07],\n",
       "         [6.25034772e-06],\n",
       "         [1.25759298e-05],\n",
       "         [5.81204904e-06],\n",
       "         [5.23930396e-07],\n",
       "         [2.59586415e-07],\n",
       "         [6.10452844e-05]]]], dtype=float32)>"
      ]
     },
     "execution_count": 10,
     "metadata": {},
     "output_type": "execute_result"
    }
   ],
   "source": [
    "\n",
    "random_vector_for_generation = tf.random.normal(shape=[1, 50])\n",
    "print(random_vector_for_generation.shape)\n",
    "generate_and_save_images(model, 51, random_vector_for_generation)"
   ]
  },
  {
   "cell_type": "code",
   "execution_count": 11,
   "metadata": {},
   "outputs": [
    {
     "name": "stdout",
     "output_type": "stream",
     "text": [
      "(1, 50)\n",
      "(28, 28, 1)\n",
      "(28, 28, 1)\n",
      "(28, 28, 1)\n",
      "(28, 28, 1)\n",
      "(28, 28, 1)\n",
      "(28, 28, 1)\n",
      "(28, 28, 1)\n",
      "(28, 28, 1)\n",
      "(28, 28, 1)\n",
      "(28, 28, 1)\n",
      "(28, 28, 1)\n",
      "(28, 28, 1)\n",
      "(28, 28, 1)\n",
      "(28, 28, 1)\n",
      "(28, 28, 1)\n",
      "(28, 28, 1)\n",
      "(28, 28, 1)\n",
      "(28, 28, 1)\n",
      "(28, 28, 1)\n",
      "(28, 28, 1)\n",
      "(28, 28, 1)\n",
      "(28, 28, 1)\n",
      "(28, 28, 1)\n",
      "(28, 28, 1)\n",
      "(28, 28, 1)\n",
      "(28, 28, 1)\n",
      "(28, 28, 1)\n",
      "(28, 28, 1)\n",
      "(28, 28, 1)\n",
      "(28, 28, 1)\n",
      "(28, 28, 1)\n",
      "(28, 28, 1)\n",
      "(28, 28, 1)\n",
      "(28, 28, 1)\n",
      "(28, 28, 1)\n",
      "(28, 28, 1)\n",
      "(28, 28, 1)\n",
      "(28, 28, 1)\n",
      "(28, 28, 1)\n",
      "(28, 28, 1)\n",
      "(28, 28, 1)\n",
      "(28, 28, 1)\n",
      "(28, 28, 1)\n",
      "(28, 28, 1)\n",
      "(28, 28, 1)\n",
      "(28, 28, 1)\n",
      "(28, 28, 1)\n",
      "(28, 28, 1)\n",
      "(28, 28, 1)\n",
      "(28, 28, 1)\n",
      "(28, 28, 1)\n",
      "(28, 28, 1)\n",
      "(28, 28, 1)\n",
      "(28, 28, 1)\n",
      "(28, 28, 1)\n",
      "(28, 28, 1)\n",
      "(28, 28, 1)\n",
      "(28, 28, 1)\n",
      "(28, 28, 1)\n",
      "(28, 28, 1)\n",
      "(28, 28, 1)\n",
      "(28, 28, 1)\n",
      "(28, 28, 1)\n",
      "(28, 28, 1)\n",
      "(28, 28, 1)\n",
      "(28, 28, 1)\n",
      "(28, 28, 1)\n",
      "(28, 28, 1)\n",
      "(28, 28, 1)\n",
      "(28, 28, 1)\n",
      "(28, 28, 1)\n",
      "(28, 28, 1)\n",
      "(28, 28, 1)\n",
      "(28, 28, 1)\n",
      "(28, 28, 1)\n",
      "(28, 28, 1)\n",
      "(28, 28, 1)\n",
      "(28, 28, 1)\n",
      "(28, 28, 1)\n",
      "(28, 28, 1)\n",
      "(28, 28, 1)\n",
      "(28, 28, 1)\n",
      "(28, 28, 1)\n",
      "(28, 28, 1)\n",
      "(28, 28, 1)\n",
      "(28, 28, 1)\n",
      "(28, 28, 1)\n",
      "(28, 28, 1)\n",
      "(28, 28, 1)\n",
      "(28, 28, 1)\n",
      "(28, 28, 1)\n",
      "(28, 28, 1)\n",
      "(28, 28, 1)\n",
      "(28, 28, 1)\n",
      "(28, 28, 1)\n",
      "(28, 28, 1)\n",
      "(28, 28, 1)\n",
      "(28, 28, 1)\n",
      "(28, 28, 1)\n",
      "(28, 28, 1)\n"
     ]
    }
   ],
   "source": [
    "i=0\n",
    "print(random_vector_for_generation.shape)\n",
    "for t in test_dataset:\n",
    "    for x in t:\n",
    "        # mean, logvar = model.encode(x)\n",
    "        print(x.shape)\n",
    "        # print(logvar.shape)\n",
    "        # print(mean.shape)\n",
    "        if i == 0:\n",
    "            break"
   ]
  },
  {
   "cell_type": "code",
   "execution_count": 12,
   "metadata": {},
   "outputs": [],
   "source": [
    "xx = tf.reshape(x,[1,28,28,1])\n",
    "mean, logvar = model.encode(xx)\n"
   ]
  },
  {
   "cell_type": "code",
   "execution_count": 13,
   "metadata": {},
   "outputs": [
    {
     "data": {
      "image/png": "[encoded data removed]",
      "text/plain": [
       "<Figure size 288x288 with 1 Axes>"
      ]
     },
     "metadata": {
      "needs_background": "light"
     },
     "output_type": "display_data"
    }
   ],
   "source": [
    "num =model.reparameterize(mean, logvar)\n",
    "fig =generate_and_save_images(model, 51, num)"
   ]
  },
  {
   "cell_type": "code",
   "execution_count": 14,
   "metadata": {},
   "outputs": [
    {
     "data": {
      "text/plain": [
       "<matplotlib.image.AxesImage at 0x21d91da73a0>"
      ]
     },
     "execution_count": 14,
     "metadata": {},
     "output_type": "execute_result"
    },
    {
     "data": {
      "image/png": "[encoded data removed]",
      "text/plain": [
       "<Figure size 432x288 with 1 Axes>"
      ]
     },
     "metadata": {
      "needs_background": "light"
     },
     "output_type": "display_data"
    }
   ],
   "source": [
    "plt.imshow(fig[0, :, :, 0], cmap='gray')\n"
   ]
  },
  {
   "cell_type": "code",
   "execution_count": 15,
   "metadata": {},
   "outputs": [
    {
     "data": {
      "text/plain": [
       "<matplotlib.image.AxesImage at 0x21db5938340>"
      ]
     },
     "execution_count": 15,
     "metadata": {},
     "output_type": "execute_result"
    },
    {
     "data": {
      "image/png": "[encoded data removed]",
      "text/plain": [
       "<Figure size 432x288 with 1 Axes>"
      ]
     },
     "metadata": {
      "needs_background": "light"
     },
     "output_type": "display_data"
    }
   ],
   "source": [
    "plt.imshow(x[:,:,0],cmap='gray')"
   ]
  },
  {
   "cell_type": "code",
   "execution_count": 23,
   "metadata": {},
   "outputs": [],
   "source": [
    "noise_factor = 0.2\n",
    "x_train_noisy = x + noise_factor * np.random.normal(loc=0.0, scale=1.0, size=x.shape) "
   ]
  },
  {
   "cell_type": "code",
   "execution_count": 24,
   "metadata": {},
   "outputs": [
    {
     "data": {
      "text/plain": [
       "<matplotlib.image.AxesImage at 0x21e8889b4f0>"
      ]
     },
     "execution_count": 24,
     "metadata": {},
     "output_type": "execute_result"
    },
    {
     "data": {
      "image/png": "[encoded data removed]",
      "text/plain": [
       "<Figure size 432x288 with 1 Axes>"
      ]
     },
     "metadata": {
      "needs_background": "light"
     },
     "output_type": "display_data"
    }
   ],
   "source": [
    "plt.imshow(x_train_noisy[:,:,0],cmap='gray')"
   ]
  },
  {
   "cell_type": "code",
   "execution_count": 25,
   "metadata": {},
   "outputs": [
    {
     "data": {
      "image/png": "[encoded data removed]",
      "text/plain": [
       "<Figure size 288x288 with 1 Axes>"
      ]
     },
     "metadata": {
      "needs_background": "light"
     },
     "output_type": "display_data"
    },
    {
     "data": {
      "text/plain": [
       "<matplotlib.image.AxesImage at 0x21e8c3c74c0>"
      ]
     },
     "execution_count": 25,
     "metadata": {},
     "output_type": "execute_result"
    },
    {
     "data": {
      "image/png": "[encoded data removed]",
      "text/plain": [
       "<Figure size 432x288 with 1 Axes>"
      ]
     },
     "metadata": {
      "needs_background": "light"
     },
     "output_type": "display_data"
    }
   ],
   "source": [
    "zz = tf.reshape(x_train_noisy,[1,28,28,1])\n",
    "mean, logvar = model.encode(zz)\n",
    "num =model.reparameterize(mean, logvar)\n",
    "fig =generate_and_save_images(model, 52, num)\n",
    "plt.imshow(fig[0, :, :, 0], cmap='gray')"
   ]
  },
  {
   "cell_type": "code",
   "execution_count": 30,
   "metadata": {},
   "outputs": [
    {
     "data": {
      "text/plain": [
       "(28, 28, 1)"
      ]
     },
     "execution_count": 30,
     "metadata": {},
     "output_type": "execute_result"
    }
   ],
   "source": [
    "test_np = np.stack(list(test_dataset))\n",
    "test_np.shape\n",
    "test_np[1][0].shape"
   ]
  },
  {
   "cell_type": "code",
   "execution_count": 33,
   "metadata": {},
   "outputs": [
    {
     "data": {
      "image/png": "[encoded data removed]",
      "text/plain": [
       "<Figure size 288x288 with 1 Axes>"
      ]
     },
     "metadata": {
      "needs_background": "light"
     },
     "output_type": "display_data"
    },
    {
     "data": {
      "text/plain": [
       "<matplotlib.image.AxesImage at 0x21e8c398850>"
      ]
     },
     "execution_count": 33,
     "metadata": {},
     "output_type": "execute_result"
    },
    {
     "data": {
      "image/png": "[encoded data removed]",
      "text/plain": [
       "<Figure size 432x288 with 1 Axes>"
      ]
     },
     "metadata": {
      "needs_background": "light"
     },
     "output_type": "display_data"
    }
   ],
   "source": [
    "a =test_np[1][0]\n",
    "xx = tf.reshape(a,[1,28,28,1])\n",
    "mean, logvar = model.encode(xx)\n",
    "num =model.reparameterize(mean, logvar)\n",
    "fig =generate_and_save_images(model, 52, num)\n",
    "plt.imshow(fig[0, :, :, 0], cmap='gray')"
   ]
  },
  {
   "cell_type": "code",
   "execution_count": 34,
   "metadata": {},
   "outputs": [
    {
     "data": {
      "text/plain": [
       "<matplotlib.image.AxesImage at 0x21da6fd1730>"
      ]
     },
     "execution_count": 34,
     "metadata": {},
     "output_type": "execute_result"
    },
    {
     "data": {
      "image/png": "[encoded data removed]",
      "text/plain": [
       "<Figure size 432x288 with 1 Axes>"
      ]
     },
     "metadata": {
      "needs_background": "light"
     },
     "output_type": "display_data"
    }
   ],
   "source": [
    "plt.imshow(a[:,:,0],cmap='gray')"
   ]
  },
  {
   "cell_type": "code",
   "execution_count": 41,
   "metadata": {},
   "outputs": [
    {
     "data": {
      "text/plain": [
       "<matplotlib.image.AxesImage at 0x21d91e49220>"
      ]
     },
     "execution_count": 41,
     "metadata": {},
     "output_type": "execute_result"
    },
    {
     "data": {
      "image/png": "[encoded data removed]",
      "text/plain": [
       "<Figure size 432x288 with 1 Axes>"
      ]
     },
     "metadata": {
      "needs_background": "light"
     },
     "output_type": "display_data"
    }
   ],
   "source": [
    "# compute_loss(model,xx)\n",
    "mean, logvar = model.encode(xx)\n",
    "z = model.reparameterize(mean, logvar)\n",
    "x_logit = model.decode(z)\n",
    "plt.imshow(x_logit[0, :, :, 0], cmap='gray')"
   ]
  },
  {
   "cell_type": "code",
   "execution_count": 50,
   "metadata": {},
   "outputs": [
    {
     "data": {
      "text/plain": [
       "<matplotlib.image.AxesImage at 0x21d91b0be20>"
      ]
     },
     "execution_count": 50,
     "metadata": {},
     "output_type": "execute_result"
    },
    {
     "data": {
      "image/png": "[encoded data removed]",
      "text/plain": [
       "<Figure size 432x288 with 1 Axes>"
      ]
     },
     "metadata": {
      "needs_background": "light"
     },
     "output_type": "display_data"
    }
   ],
   "source": [
    "a =test_np[1][3]\n",
    "xx = tf.reshape(a,[1,28,28,1])\n",
    "mean, logvar = model.encode(xx)\n",
    "num =model.reparameterize(mean, logvar)\n",
    "x_logit = model.decode(mean,apply_sigmoid=True)\n",
    "plt.imshow(x_logit[0, :, :, 0], cmap='gray')"
   ]
  },
  {
   "cell_type": "code",
   "execution_count": 51,
   "metadata": {},
   "outputs": [
    {
     "data": {
      "text/plain": [
       "<matplotlib.image.AxesImage at 0x21d91bbdc10>"
      ]
     },
     "execution_count": 51,
     "metadata": {},
     "output_type": "execute_result"
    },
    {
     "data": {
      "image/png": "[encoded data removed]",
      "text/plain": [
       "<Figure size 432x288 with 1 Axes>"
      ]
     },
     "metadata": {
      "needs_background": "light"
     },
     "output_type": "display_data"
    }
   ],
   "source": [
    "plt.imshow(xx[0, :, :, 0], cmap='gray')"
   ]
  },
  {
   "cell_type": "code",
   "execution_count": null,
   "metadata": {},
   "outputs": [],
   "source": [
    "  @tf.function\n",
    "  def sample(self, eps=None):\n",
    "    if eps is None:\n",
    "      eps = tf.random.normal(shape=(100, self.latent_dim))\n",
    "    return self.decode(eps, apply_sigmoid=True)\n",
    "\n",
    "  def encode(self, x):\n",
    "    mean, logvar = tf.split(self.inference_net(x), num_or_size_splits=2, axis=1)\n",
    "    return mean, logvar\n",
    "\n",
    "  def reparameterize(self, mean, logvar):\n",
    "    eps = tf.random.normal(shape=mean.shape)\n",
    "    return eps * tf.exp(logvar * .5) + mean\n",
    "\n",
    "  def decode(self, z, apply_sigmoid=False):\n",
    "    logits = self.generative_net(z)\n",
    "    if apply_sigmoid:\n",
    "      probs = tf.sigmoid(logits)\n",
    "      return probs"
   ]
  }
 ],
 "metadata": {
  "interpreter": {
   "hash": "ecf5722fdaf1897a315d257d89d94520bfcaa453217d5becf09b39e73618b0de"
  },
  "kernelspec": {
   "display_name": "Python 3.8.5 64-bit",
   "language": "python",
   "name": "python3"
  },
  "language_info": {
   "codemirror_mode": {
    "name": "ipython",
    "version": 3
   },
   "file_extension": ".py",
   "mimetype": "text/x-python",
   "name": "python",
   "nbconvert_exporter": "python",
   "pygments_lexer": "ipython3",
   "version": "3.8.5"
  },
  "orig_nbformat": 4
 },
 "nbformat": 4,
 "nbformat_minor": 2
}
