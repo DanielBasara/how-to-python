{
 "cells": [
  {
   "cell_type": "markdown",
   "source": [
    "# TensorFlow学习笔记"
   ],
   "metadata": {}
  },
  {
   "cell_type": "markdown",
   "source": [
    "## **2021年10月3日 hello TensorFlow**\r\n",
    "\r\n",
    "### **学习方向：**\r\n",
    "主修 TF2.0 + Keras\r\n",
    "\r\n",
    "辅修： PyTorch + Caffe2\r\n",
    "\r\n",
    "\r\n",
    "### **为什么要学习TF2？**\r\n",
    "因为TF可以帮助计算机在计算大数据深度学习的时候通过GPU进行计算加速。\r\n",
    "\r\n",
    "### **参考教程**\r\n",
    "1.[官方教程](https://tensorflow.google.cn/tutorials)\r\n",
    "\r\n",
    "2.[youtube教学视频](https://www.youtube.com/watch?v=X7ESTHXhKO4&list=PLh7DRwYmUgh7swOvZUZ52LMeGDmjFH0nv&index=4)\r\n",
    "### **本日学习进度：**\r\n",
    "#### 1.对于AI神经网络训练用框架TensorFlow的发展和与其他框架的对比进行了一定的了解。\r\n",
    "#### 2.TF的环境配置（未完成）\r\n",
    "用GPU进行运算所以使用Nvidia CUDA和cuDNN库和TF2.0\r\n",
    "\r\n",
    "----------------\r\n",
    "## **2021年10月5日 环境构筑**\r\n",
    "\r\n"
   ],
   "metadata": {}
  },
  {
   "cell_type": "markdown",
   "source": [],
   "metadata": {}
  }
 ],
 "metadata": {
  "orig_nbformat": 4,
  "language_info": {
   "name": "python"
  }
 },
 "nbformat": 4,
 "nbformat_minor": 2
}