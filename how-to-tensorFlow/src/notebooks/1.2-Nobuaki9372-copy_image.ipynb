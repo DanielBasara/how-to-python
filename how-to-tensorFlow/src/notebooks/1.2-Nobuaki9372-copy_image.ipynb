{
 "cells": [
  {
   "cell_type": "markdown",
   "source": [
    "# 概要\r\n",
    "\r\n",
    "20211005\r\n",
    "\r\n",
    "本コードは画像AIのための池の画像切り出しコードである<br>"
   ],
   "metadata": {}
  },
  {
   "cell_type": "markdown",
   "source": [
    "# ライブラリのインポート\n",
    "\n",
    "## Loggerのインポート\n",
    "\n",
    "`MyLogger`は自作のロガークラスであり、`util/MyLogger.py`で実装されている。<br>"
   ],
   "metadata": {}
  },
  {
   "cell_type": "code",
   "execution_count": 4,
   "source": [
    "%matplotlib inline\r\n",
    "\r\n",
    "from IPython.display import display\r\n",
    "\r\n",
    "import argparse\r\n",
    "import os\r\n",
    "import sys\r\n",
    "import re\r\n",
    "import cv2\r\n",
    "import shutil\r\n",
    "import time as tm\r\n",
    "import datetime as dt\r\n",
    "import numpy as np\r\n",
    "import pandas as pd\r\n",
    "from collections import deque\r\n",
    "import matplotlib.pyplot as plt\r\n",
    "from matplotlib import cm\r\n",
    "import seaborn as sns\r\n",
    "from tqdm import tqdm\r\n",
    "from pathlib import Path\r\n",
    "from PIL import Image\r\n",
    "\r\n",
    "from utils import MyLogger\r\n",
    "\r\n",
    "sns.set()"
   ],
   "outputs": [],
   "metadata": {
    "scrolled": true
   }
  },
  {
   "cell_type": "markdown",
   "source": [
    "# Configファイルのロード\n",
    "\n",
    "設定情報やハイパーパラメータをjsonからロードする。<br>\n",
    "引数ではないが、利便性からargsに格納する。<br>"
   ],
   "metadata": {}
  },
  {
   "cell_type": "code",
   "execution_count": 5,
   "source": [
    "config_path = \"configs/check_image\"\r\n",
    "config_filename = \"east_3-2_final_settling_tank_201811\"\r\n",
    "\r\n",
    "args = pd.read_json(Path(config_path, f\"{config_filename}.json\"), typ = 'series', encoding = \"utf-8\")\r\n",
    "display(args)"
   ],
   "outputs": [
    {
     "output_type": "display_data",
     "data": {
      "text/plain": [
       "seed                                                       20190517\n",
       "filelist_dir      results/create_filelist/east_3-2_final_settlin...\n",
       "outdir_org        E:/image_ai2021/hiroshima_seibu/east_3-2_final...\n",
       "outdir_crop       E:/image_ai2021/hiroshima_seibu/east_3-2_final...\n",
       "start_index                                      2018-11-1 00:00:00\n",
       "end_index                                       2018-11-30 23:59:59\n",
       "crop_lat_n                                                      400\n",
       "crop_lat_s                                                      900\n",
       "crop_lon_w                                                      400\n",
       "crop_lon_e                                                      900\n",
       "resize_height                                                   256\n",
       "resize_width                                                    256\n",
       "illum_low_lim                                                    85\n",
       "illum_high_lim                                                  100\n",
       "dtype: object"
      ]
     },
     "metadata": {}
    }
   ],
   "metadata": {
    "scrolled": false
   }
  },
  {
   "cell_type": "markdown",
   "source": [
    "# アウトプットディレクトリの生成\n",
    "\n",
    "`experiments.prepare_output_dir`はアウトプットディレクトリを生成して、モデル情報などを自動的に保存してくれる。"
   ],
   "metadata": {}
  },
  {
   "cell_type": "code",
   "execution_count": 6,
   "source": [
    "# assert isinstance(args.outdir_org, str), 'args.outdir_org must be path : type \\'str\\' not {}'.format(type(args.outdir_org))\r\n",
    "# assert isinstance(args.outdir_crop, str), 'args.outdir_crop must be path : type \\'str\\' not {}'.format(type(args.outdir_crop))\r\n",
    "\r\n",
    "\r\n",
    "outdir_log = Path(\"results\", \"copy_image\", config_filename)\r\n",
    "outdir_log.mkdir(parents=True, exist_ok = True)\r\n",
    "args.to_csv(Path(outdir_log, config_filename + \".csv\"))\r\n",
    "\r\n",
    "display(f'Org files are saved in {args.outdir_org}')\r\n",
    "display(f'Croped files are saved in {args.outdir_crop}')\r\n",
    "display(f'Log files are saved in {outdir_log}')"
   ],
   "outputs": [
    {
     "output_type": "display_data",
     "data": {
      "text/plain": [
       "'Org files are saved in E:/image_ai2021/hiroshima_seibu/east_3-2_final_settling_tank/raw'"
      ]
     },
     "metadata": {}
    },
    {
     "output_type": "display_data",
     "data": {
      "text/plain": [
       "'Croped files are saved in E:/image_ai2021/hiroshima_seibu/east_3-2_final_settling_tank/crop'"
      ]
     },
     "metadata": {}
    },
    {
     "output_type": "display_data",
     "data": {
      "text/plain": [
       "'Log files are saved in results\\\\copy_image\\\\east_3-2_final_settling_tank_201811'"
      ]
     },
     "metadata": {}
    }
   ],
   "metadata": {
    "scrolled": true
   }
  },
  {
   "cell_type": "markdown",
   "source": [
    "# Loggerの設定\n",
    "\n",
    "MyLoggerクラスによって汎用ロガーを作成する。<br>\n",
    "標準出力にINFO情報までを出力し、`root`と`filename`に指定したファイルにDEBUG情報まで出力する。<br>\n",
    "moduleNmaeは`__name__`とすることでmainを指定できる。"
   ],
   "metadata": {}
  },
  {
   "cell_type": "code",
   "execution_count": 7,
   "source": [
    "path_log = Path('logs/')\r\n",
    "path_log.mkdir(parents = True, exist_ok = True)\r\n",
    "\r\n",
    "from logging import ERROR, INFO\r\n",
    "ml = MyLogger(root = path_log,\r\n",
    "              filename = \"crop_image.log\",\r\n",
    "              stream_level = INFO,\r\n",
    "              moduleName = __name__)\r\n",
    "logger = ml.getModuleLogger()\r\n",
    "\r\n",
    "logger.info(\"start script\")\r\n",
    "logger.info(f\"config file name :{config_filename}\")"
   ],
   "outputs": [
    {
     "output_type": "stream",
     "name": "stderr",
     "text": [
      "[2021-10-05 18:13:49,689 | __main__ | INFO] start script\n",
      "[2021-10-05 18:13:49,699 | __main__ | INFO] config file name :east_3-2_final_settling_tank_201811\n"
     ]
    }
   ],
   "metadata": {
    "scrolled": true
   }
  },
  {
   "cell_type": "code",
   "execution_count": 8,
   "source": [
    "t_s = tm.time()\r\n",
    "\r\n",
    "filelist_path = Path(args.filelist_dir, \"file_list.csv\")\r\n",
    "file_list = pd.read_csv(filelist_path, index_col = \"datetime\", parse_dates = True)\r\n",
    "\r\n",
    "duration = tm.time() - t_s\r\n",
    "logger.info(\"get file list : elapsed time is {:.2f} [s]\".format(duration))\r\n",
    "\r\n",
    "display(file_list.shape)\r\n",
    "display(file_list.index.dtype)\r\n",
    "display(file_list.dtypes)\r\n",
    "display(file_list.head())\r\n",
    "display(file_list.tail())\r\n",
    "display(file_list.info())"
   ],
   "outputs": [
    {
     "output_type": "stream",
     "name": "stderr",
     "text": [
      "[2021-10-05 18:13:51,278 | __main__ | INFO] get file list : elapsed time is 0.74 [s]\n"
     ]
    },
    {
     "output_type": "display_data",
     "data": {
      "text/plain": [
       "(209569, 1)"
      ]
     },
     "metadata": {}
    },
    {
     "output_type": "display_data",
     "data": {
      "text/plain": [
       "dtype('<M8[ns]')"
      ]
     },
     "metadata": {}
    },
    {
     "output_type": "display_data",
     "data": {
      "text/plain": [
       "filename    object\n",
       "dtype: object"
      ]
     },
     "metadata": {}
    },
    {
     "output_type": "display_data",
     "data": {
      "text/html": [
       "<div>\n",
       "<style scoped>\n",
       "    .dataframe tbody tr th:only-of-type {\n",
       "        vertical-align: middle;\n",
       "    }\n",
       "\n",
       "    .dataframe tbody tr th {\n",
       "        vertical-align: top;\n",
       "    }\n",
       "\n",
       "    .dataframe thead th {\n",
       "        text-align: right;\n",
       "    }\n",
       "</style>\n",
       "<table border=\"1\" class=\"dataframe\">\n",
       "  <thead>\n",
       "    <tr style=\"text-align: right;\">\n",
       "      <th></th>\n",
       "      <th>filename</th>\n",
       "    </tr>\n",
       "    <tr>\n",
       "      <th>datetime</th>\n",
       "      <th></th>\n",
       "    </tr>\n",
       "  </thead>\n",
       "  <tbody>\n",
       "    <tr>\n",
       "      <th>2018-03-02 10:40:10</th>\n",
       "      <td>\\\\10.101.65.115\\広島西部\\002_広島西部水資源再生センター\\02_data...</td>\n",
       "    </tr>\n",
       "    <tr>\n",
       "      <th>2018-08-21 09:10:46</th>\n",
       "      <td>\\\\10.101.65.115\\広島西部\\002_広島西部水資源再生センター\\02_data...</td>\n",
       "    </tr>\n",
       "    <tr>\n",
       "      <th>2018-08-21 09:10:56</th>\n",
       "      <td>\\\\10.101.65.115\\広島西部\\002_広島西部水資源再生センター\\02_data...</td>\n",
       "    </tr>\n",
       "    <tr>\n",
       "      <th>2018-08-21 09:11:06</th>\n",
       "      <td>\\\\10.101.65.115\\広島西部\\002_広島西部水資源再生センター\\02_data...</td>\n",
       "    </tr>\n",
       "    <tr>\n",
       "      <th>2018-08-21 09:11:16</th>\n",
       "      <td>\\\\10.101.65.115\\広島西部\\002_広島西部水資源再生センター\\02_data...</td>\n",
       "    </tr>\n",
       "  </tbody>\n",
       "</table>\n",
       "</div>"
      ],
      "text/plain": [
       "                                                              filename\n",
       "datetime                                                              \n",
       "2018-03-02 10:40:10  \\\\10.101.65.115\\広島西部\\002_広島西部水資源再生センター\\02_data...\n",
       "2018-08-21 09:10:46  \\\\10.101.65.115\\広島西部\\002_広島西部水資源再生センター\\02_data...\n",
       "2018-08-21 09:10:56  \\\\10.101.65.115\\広島西部\\002_広島西部水資源再生センター\\02_data...\n",
       "2018-08-21 09:11:06  \\\\10.101.65.115\\広島西部\\002_広島西部水資源再生センター\\02_data...\n",
       "2018-08-21 09:11:16  \\\\10.101.65.115\\広島西部\\002_広島西部水資源再生センター\\02_data..."
      ]
     },
     "metadata": {}
    },
    {
     "output_type": "display_data",
     "data": {
      "text/html": [
       "<div>\n",
       "<style scoped>\n",
       "    .dataframe tbody tr th:only-of-type {\n",
       "        vertical-align: middle;\n",
       "    }\n",
       "\n",
       "    .dataframe tbody tr th {\n",
       "        vertical-align: top;\n",
       "    }\n",
       "\n",
       "    .dataframe thead th {\n",
       "        text-align: right;\n",
       "    }\n",
       "</style>\n",
       "<table border=\"1\" class=\"dataframe\">\n",
       "  <thead>\n",
       "    <tr style=\"text-align: right;\">\n",
       "      <th></th>\n",
       "      <th>filename</th>\n",
       "    </tr>\n",
       "    <tr>\n",
       "      <th>datetime</th>\n",
       "      <th></th>\n",
       "    </tr>\n",
       "  </thead>\n",
       "  <tbody>\n",
       "    <tr>\n",
       "      <th>2019-12-05 13:16:18</th>\n",
       "      <td>\\\\10.101.65.115\\広島西部\\002_広島西部水資源再生センター\\02_data...</td>\n",
       "    </tr>\n",
       "    <tr>\n",
       "      <th>2019-12-05 13:16:28</th>\n",
       "      <td>\\\\10.101.65.115\\広島西部\\002_広島西部水資源再生センター\\02_data...</td>\n",
       "    </tr>\n",
       "    <tr>\n",
       "      <th>2019-12-05 13:16:38</th>\n",
       "      <td>\\\\10.101.65.115\\広島西部\\002_広島西部水資源再生センター\\02_data...</td>\n",
       "    </tr>\n",
       "    <tr>\n",
       "      <th>2019-12-05 13:16:48</th>\n",
       "      <td>\\\\10.101.65.115\\広島西部\\002_広島西部水資源再生センター\\02_data...</td>\n",
       "    </tr>\n",
       "    <tr>\n",
       "      <th>2019-12-05 13:16:58</th>\n",
       "      <td>\\\\10.101.65.115\\広島西部\\002_広島西部水資源再生センター\\02_data...</td>\n",
       "    </tr>\n",
       "  </tbody>\n",
       "</table>\n",
       "</div>"
      ],
      "text/plain": [
       "                                                              filename\n",
       "datetime                                                              \n",
       "2019-12-05 13:16:18  \\\\10.101.65.115\\広島西部\\002_広島西部水資源再生センター\\02_data...\n",
       "2019-12-05 13:16:28  \\\\10.101.65.115\\広島西部\\002_広島西部水資源再生センター\\02_data...\n",
       "2019-12-05 13:16:38  \\\\10.101.65.115\\広島西部\\002_広島西部水資源再生センター\\02_data...\n",
       "2019-12-05 13:16:48  \\\\10.101.65.115\\広島西部\\002_広島西部水資源再生センター\\02_data...\n",
       "2019-12-05 13:16:58  \\\\10.101.65.115\\広島西部\\002_広島西部水資源再生センター\\02_data..."
      ]
     },
     "metadata": {}
    },
    {
     "output_type": "stream",
     "name": "stdout",
     "text": [
      "<class 'pandas.core.frame.DataFrame'>\n",
      "DatetimeIndex: 209569 entries, 2018-03-02 10:40:10 to 2019-12-05 13:16:58\n",
      "Data columns (total 1 columns):\n",
      " #   Column    Non-Null Count   Dtype \n",
      "---  ------    --------------   ----- \n",
      " 0   filename  209569 non-null  object\n",
      "dtypes: object(1)\n",
      "memory usage: 3.2+ MB\n"
     ]
    },
    {
     "output_type": "display_data",
     "data": {
      "text/plain": [
       "None"
      ]
     },
     "metadata": {}
    }
   ],
   "metadata": {}
  },
  {
   "cell_type": "code",
   "execution_count": 9,
   "source": [
    "start_datetime = dt.datetime.strptime(args.start_index, '%Y-%m-%d %H:%M:%S')\r\n",
    "file_list = file_list[file_list.index >= start_datetime]\r\n",
    "\r\n",
    "end_datetime = dt.datetime.strptime(args.end_index, '%Y-%m-%d %H:%M:%S')\r\n",
    "file_list = file_list[file_list.index <= end_datetime]\r\n",
    "\r\n",
    "\r\n",
    "display(file_list.shape)    \r\n",
    "display(file_list.head())\r\n",
    "display(file_list.tail())"
   ],
   "outputs": [
    {
     "output_type": "display_data",
     "data": {
      "text/plain": [
       "(6500, 1)"
      ]
     },
     "metadata": {}
    },
    {
     "output_type": "display_data",
     "data": {
      "text/html": [
       "<div>\n",
       "<style scoped>\n",
       "    .dataframe tbody tr th:only-of-type {\n",
       "        vertical-align: middle;\n",
       "    }\n",
       "\n",
       "    .dataframe tbody tr th {\n",
       "        vertical-align: top;\n",
       "    }\n",
       "\n",
       "    .dataframe thead th {\n",
       "        text-align: right;\n",
       "    }\n",
       "</style>\n",
       "<table border=\"1\" class=\"dataframe\">\n",
       "  <thead>\n",
       "    <tr style=\"text-align: right;\">\n",
       "      <th></th>\n",
       "      <th>filename</th>\n",
       "    </tr>\n",
       "    <tr>\n",
       "      <th>datetime</th>\n",
       "      <th></th>\n",
       "    </tr>\n",
       "  </thead>\n",
       "  <tbody>\n",
       "    <tr>\n",
       "      <th>2018-11-20 13:24:06</th>\n",
       "      <td>\\\\10.101.65.115\\広島西部\\002_広島西部水資源再生センター\\02_data...</td>\n",
       "    </tr>\n",
       "    <tr>\n",
       "      <th>2018-11-20 13:24:16</th>\n",
       "      <td>\\\\10.101.65.115\\広島西部\\002_広島西部水資源再生センター\\02_data...</td>\n",
       "    </tr>\n",
       "    <tr>\n",
       "      <th>2018-11-20 13:24:26</th>\n",
       "      <td>\\\\10.101.65.115\\広島西部\\002_広島西部水資源再生センター\\02_data...</td>\n",
       "    </tr>\n",
       "    <tr>\n",
       "      <th>2018-11-20 13:24:36</th>\n",
       "      <td>\\\\10.101.65.115\\広島西部\\002_広島西部水資源再生センター\\02_data...</td>\n",
       "    </tr>\n",
       "    <tr>\n",
       "      <th>2018-11-20 13:24:46</th>\n",
       "      <td>\\\\10.101.65.115\\広島西部\\002_広島西部水資源再生センター\\02_data...</td>\n",
       "    </tr>\n",
       "  </tbody>\n",
       "</table>\n",
       "</div>"
      ],
      "text/plain": [
       "                                                              filename\n",
       "datetime                                                              \n",
       "2018-11-20 13:24:06  \\\\10.101.65.115\\広島西部\\002_広島西部水資源再生センター\\02_data...\n",
       "2018-11-20 13:24:16  \\\\10.101.65.115\\広島西部\\002_広島西部水資源再生センター\\02_data...\n",
       "2018-11-20 13:24:26  \\\\10.101.65.115\\広島西部\\002_広島西部水資源再生センター\\02_data...\n",
       "2018-11-20 13:24:36  \\\\10.101.65.115\\広島西部\\002_広島西部水資源再生センター\\02_data...\n",
       "2018-11-20 13:24:46  \\\\10.101.65.115\\広島西部\\002_広島西部水資源再生センター\\02_data..."
      ]
     },
     "metadata": {}
    },
    {
     "output_type": "display_data",
     "data": {
      "text/html": [
       "<div>\n",
       "<style scoped>\n",
       "    .dataframe tbody tr th:only-of-type {\n",
       "        vertical-align: middle;\n",
       "    }\n",
       "\n",
       "    .dataframe tbody tr th {\n",
       "        vertical-align: top;\n",
       "    }\n",
       "\n",
       "    .dataframe thead th {\n",
       "        text-align: right;\n",
       "    }\n",
       "</style>\n",
       "<table border=\"1\" class=\"dataframe\">\n",
       "  <thead>\n",
       "    <tr style=\"text-align: right;\">\n",
       "      <th></th>\n",
       "      <th>filename</th>\n",
       "    </tr>\n",
       "    <tr>\n",
       "      <th>datetime</th>\n",
       "      <th></th>\n",
       "    </tr>\n",
       "  </thead>\n",
       "  <tbody>\n",
       "    <tr>\n",
       "      <th>2018-11-30 23:54:52</th>\n",
       "      <td>\\\\10.101.65.115\\広島西部\\002_広島西部水資源再生センター\\02_data...</td>\n",
       "    </tr>\n",
       "    <tr>\n",
       "      <th>2018-11-30 23:55:02</th>\n",
       "      <td>\\\\10.101.65.115\\広島西部\\002_広島西部水資源再生センター\\02_data...</td>\n",
       "    </tr>\n",
       "    <tr>\n",
       "      <th>2018-11-30 23:55:12</th>\n",
       "      <td>\\\\10.101.65.115\\広島西部\\002_広島西部水資源再生センター\\02_data...</td>\n",
       "    </tr>\n",
       "    <tr>\n",
       "      <th>2018-11-30 23:55:22</th>\n",
       "      <td>\\\\10.101.65.115\\広島西部\\002_広島西部水資源再生センター\\02_data...</td>\n",
       "    </tr>\n",
       "    <tr>\n",
       "      <th>2018-11-30 23:55:32</th>\n",
       "      <td>\\\\10.101.65.115\\広島西部\\002_広島西部水資源再生センター\\02_data...</td>\n",
       "    </tr>\n",
       "  </tbody>\n",
       "</table>\n",
       "</div>"
      ],
      "text/plain": [
       "                                                              filename\n",
       "datetime                                                              \n",
       "2018-11-30 23:54:52  \\\\10.101.65.115\\広島西部\\002_広島西部水資源再生センター\\02_data...\n",
       "2018-11-30 23:55:02  \\\\10.101.65.115\\広島西部\\002_広島西部水資源再生センター\\02_data...\n",
       "2018-11-30 23:55:12  \\\\10.101.65.115\\広島西部\\002_広島西部水資源再生センター\\02_data...\n",
       "2018-11-30 23:55:22  \\\\10.101.65.115\\広島西部\\002_広島西部水資源再生センター\\02_data...\n",
       "2018-11-30 23:55:32  \\\\10.101.65.115\\広島西部\\002_広島西部水資源再生センター\\02_data..."
      ]
     },
     "metadata": {}
    }
   ],
   "metadata": {}
  },
  {
   "cell_type": "code",
   "execution_count": 10,
   "source": [
    "t_s = tm.time()\r\n",
    "\r\n",
    "pick_file_list = deque(maxlen = 10**6)\r\n",
    "\r\n",
    "for tmp_datetime, tmp_image in tqdm(file_list.iterrows()):\r\n",
    "# for tmp_datetime, tmp_image in tqdm(file_list.sample(n = 100).iterrows()):\r\n",
    "    outdir_org_month = Path(args.outdir_org, tmp_datetime.strftime('%Y-%m'))\r\n",
    "    outdir_org_month.mkdir(parents=True, exist_ok=True)\r\n",
    "    outdir_crop_month = Path(args.outdir_crop, tmp_datetime.strftime('%Y-%m'))\r\n",
    "    outdir_crop_month.mkdir(parents=True, exist_ok=True)\r\n",
    "    \r\n",
    "#     image = cv2.imread(tmp_image.filename.as_posix(), cv2.IMREAD_UNCHANGED)\r\n",
    "    \r\n",
    "    image_pil = Image.open(tmp_image.filename)\r\n",
    "    image_cv2 = np.asarray(image_pil)\r\n",
    "    image = cv2.cvtColor(image_cv2, cv2.COLOR_RGB2BGR)\r\n",
    "    \r\n",
    "    #infanviewとはｘｙ逆\r\n",
    "    #xが縦（上から）、yが横（ひだりから）\r\n",
    "    image_trim = image[args.crop_lat_n:args.crop_lat_s, args.crop_lon_w:args.crop_lon_e]\r\n",
    "    image_resize = cv2.resize(image_trim, (args.resize_height, args.resize_width))\r\n",
    "\r\n",
    "    # hsv変換\r\n",
    "    image_hsv = cv2.cvtColor(image_resize, cv2.COLOR_BGR2HSV)\r\n",
    "    image_v = image_hsv[:, :, 2]\r\n",
    "    illum = image_v.mean()\r\n",
    "\r\n",
    "    if (illum >= args.illum_low_lim) and (illum <= args.illum_high_lim):\r\n",
    "        pick_file_list.append([tmp_datetime, tmp_image.filename])\r\n",
    "\r\n",
    "        shutil.copy2(tmp_image.filename,\r\n",
    "                     Path(outdir_org_month, f\"{tmp_datetime.strftime('%Y%m%d%H%M%S')}.jpg\"))\r\n",
    "        # cv2.imwrite(Path(outdir_crop_month, f\"{tmp_datetime.strftime('%Y%m%d%H%M%S')}.jpg\").as_posix(), image_resize)\r\n",
    "        \r\n",
    "        # image_pil = Image.fromarray(cv2.cvtColor(image_resize, cv2.COLOR_BGR2RGB))\r\n",
    "        # image_pil.save(Path(outdir_crop_month, f\"{tmp_datetime.strftime('%Y%m%d%H%M%S')}.jpg\"), quality = 95)\r\n",
    "\r\n",
    "        \r\n",
    "duration = tm.time() - t_s\r\n",
    "logger.info(\"crop image : elapsed time is {:.2f} [s]\".format(duration))"
   ],
   "outputs": [
    {
     "output_type": "stream",
     "name": "stderr",
     "text": [
      "1694it [01:07, 25.11it/s]\n"
     ]
    },
    {
     "output_type": "error",
     "ename": "TypeError",
     "evalue": "Expected Ptr<cv::UMat> for argument 'src'",
     "traceback": [
      "\u001b[1;31m---------------------------------------------------------------------------\u001b[0m",
      "\u001b[1;31mTypeError\u001b[0m                                 Traceback (most recent call last)",
      "\u001b[1;32m<ipython-input-10-0e42cad40e8e>\u001b[0m in \u001b[0;36m<module>\u001b[1;34m\u001b[0m\n\u001b[0;32m     14\u001b[0m     \u001b[0mimage_pil\u001b[0m \u001b[1;33m=\u001b[0m \u001b[0mImage\u001b[0m\u001b[1;33m.\u001b[0m\u001b[0mopen\u001b[0m\u001b[1;33m(\u001b[0m\u001b[0mtmp_image\u001b[0m\u001b[1;33m.\u001b[0m\u001b[0mfilename\u001b[0m\u001b[1;33m)\u001b[0m\u001b[1;33m\u001b[0m\u001b[1;33m\u001b[0m\u001b[0m\n\u001b[0;32m     15\u001b[0m     \u001b[0mimage_cv2\u001b[0m \u001b[1;33m=\u001b[0m \u001b[0mnp\u001b[0m\u001b[1;33m.\u001b[0m\u001b[0masarray\u001b[0m\u001b[1;33m(\u001b[0m\u001b[0mimage_pil\u001b[0m\u001b[1;33m)\u001b[0m\u001b[1;33m\u001b[0m\u001b[1;33m\u001b[0m\u001b[0m\n\u001b[1;32m---> 16\u001b[1;33m     \u001b[0mimage\u001b[0m \u001b[1;33m=\u001b[0m \u001b[0mcv2\u001b[0m\u001b[1;33m.\u001b[0m\u001b[0mcvtColor\u001b[0m\u001b[1;33m(\u001b[0m\u001b[0mimage_cv2\u001b[0m\u001b[1;33m,\u001b[0m \u001b[0mcv2\u001b[0m\u001b[1;33m.\u001b[0m\u001b[0mCOLOR_RGB2BGR\u001b[0m\u001b[1;33m)\u001b[0m\u001b[1;33m\u001b[0m\u001b[1;33m\u001b[0m\u001b[0m\n\u001b[0m\u001b[0;32m     17\u001b[0m \u001b[1;33m\u001b[0m\u001b[0m\n\u001b[0;32m     18\u001b[0m     \u001b[1;31m#infanviewとはｘｙ逆\u001b[0m\u001b[1;33m\u001b[0m\u001b[1;33m\u001b[0m\u001b[1;33m\u001b[0m\u001b[0m\n",
      "\u001b[1;31mTypeError\u001b[0m: Expected Ptr<cv::UMat> for argument 'src'"
     ]
    }
   ],
   "metadata": {}
  },
  {
   "cell_type": "code",
   "execution_count": null,
   "source": [
    "pick_file_list_pd = pd.DataFrame(list(pick_file_list), columns = [\"datetime\", \"filename\"])\r\n",
    "pick_file_list_pd = pick_file_list_pd.set_index(\"datetime\")\r\n",
    "pick_file_list_pd = pick_file_list_pd.sort_index()\r\n",
    "\r\n",
    "display(pick_file_list_pd.head())\r\n",
    "display(pick_file_list_pd.tail())\r\n",
    "display(pick_file_list_pd.info())"
   ],
   "outputs": [
    {
     "output_type": "display_data",
     "data": {
      "text/html": [
       "<div>\n",
       "<style scoped>\n",
       "    .dataframe tbody tr th:only-of-type {\n",
       "        vertical-align: middle;\n",
       "    }\n",
       "\n",
       "    .dataframe tbody tr th {\n",
       "        vertical-align: top;\n",
       "    }\n",
       "\n",
       "    .dataframe thead th {\n",
       "        text-align: right;\n",
       "    }\n",
       "</style>\n",
       "<table border=\"1\" class=\"dataframe\">\n",
       "  <thead>\n",
       "    <tr style=\"text-align: right;\">\n",
       "      <th></th>\n",
       "      <th>filename</th>\n",
       "    </tr>\n",
       "    <tr>\n",
       "      <th>datetime</th>\n",
       "      <th></th>\n",
       "    </tr>\n",
       "  </thead>\n",
       "  <tbody>\n",
       "    <tr>\n",
       "      <th>2019-12-02 08:43:38</th>\n",
       "      <td>\\\\10.101.65.115\\広島西部\\002_広島西部水資源再生センター\\02_data...</td>\n",
       "    </tr>\n",
       "    <tr>\n",
       "      <th>2019-12-03 06:22:18</th>\n",
       "      <td>\\\\10.101.65.115\\広島西部\\002_広島西部水資源再生センター\\02_data...</td>\n",
       "    </tr>\n",
       "    <tr>\n",
       "      <th>2019-12-03 06:51:28</th>\n",
       "      <td>\\\\10.101.65.115\\広島西部\\002_広島西部水資源再生センター\\02_data...</td>\n",
       "    </tr>\n",
       "    <tr>\n",
       "      <th>2019-12-03 06:51:38</th>\n",
       "      <td>\\\\10.101.65.115\\広島西部\\002_広島西部水資源再生センター\\02_data...</td>\n",
       "    </tr>\n",
       "    <tr>\n",
       "      <th>2019-12-03 06:51:48</th>\n",
       "      <td>\\\\10.101.65.115\\広島西部\\002_広島西部水資源再生センター\\02_data...</td>\n",
       "    </tr>\n",
       "  </tbody>\n",
       "</table>\n",
       "</div>"
      ],
      "text/plain": [
       "                                                              filename\n",
       "datetime                                                              \n",
       "2019-12-02 08:43:38  \\\\10.101.65.115\\広島西部\\002_広島西部水資源再生センター\\02_data...\n",
       "2019-12-03 06:22:18  \\\\10.101.65.115\\広島西部\\002_広島西部水資源再生センター\\02_data...\n",
       "2019-12-03 06:51:28  \\\\10.101.65.115\\広島西部\\002_広島西部水資源再生センター\\02_data...\n",
       "2019-12-03 06:51:38  \\\\10.101.65.115\\広島西部\\002_広島西部水資源再生センター\\02_data...\n",
       "2019-12-03 06:51:48  \\\\10.101.65.115\\広島西部\\002_広島西部水資源再生センター\\02_data..."
      ]
     },
     "metadata": {}
    },
    {
     "output_type": "display_data",
     "data": {
      "text/html": [
       "<div>\n",
       "<style scoped>\n",
       "    .dataframe tbody tr th:only-of-type {\n",
       "        vertical-align: middle;\n",
       "    }\n",
       "\n",
       "    .dataframe tbody tr th {\n",
       "        vertical-align: top;\n",
       "    }\n",
       "\n",
       "    .dataframe thead th {\n",
       "        text-align: right;\n",
       "    }\n",
       "</style>\n",
       "<table border=\"1\" class=\"dataframe\">\n",
       "  <thead>\n",
       "    <tr style=\"text-align: right;\">\n",
       "      <th></th>\n",
       "      <th>filename</th>\n",
       "    </tr>\n",
       "    <tr>\n",
       "      <th>datetime</th>\n",
       "      <th></th>\n",
       "    </tr>\n",
       "  </thead>\n",
       "  <tbody>\n",
       "    <tr>\n",
       "      <th>2019-12-04 23:51:38</th>\n",
       "      <td>\\\\10.101.65.115\\広島西部\\002_広島西部水資源再生センター\\02_data...</td>\n",
       "    </tr>\n",
       "    <tr>\n",
       "      <th>2019-12-04 23:51:48</th>\n",
       "      <td>\\\\10.101.65.115\\広島西部\\002_広島西部水資源再生センター\\02_data...</td>\n",
       "    </tr>\n",
       "    <tr>\n",
       "      <th>2019-12-04 23:51:58</th>\n",
       "      <td>\\\\10.101.65.115\\広島西部\\002_広島西部水資源再生センター\\02_data...</td>\n",
       "    </tr>\n",
       "    <tr>\n",
       "      <th>2019-12-04 23:52:08</th>\n",
       "      <td>\\\\10.101.65.115\\広島西部\\002_広島西部水資源再生センター\\02_data...</td>\n",
       "    </tr>\n",
       "    <tr>\n",
       "      <th>2019-12-04 23:52:18</th>\n",
       "      <td>\\\\10.101.65.115\\広島西部\\002_広島西部水資源再生センター\\02_data...</td>\n",
       "    </tr>\n",
       "  </tbody>\n",
       "</table>\n",
       "</div>"
      ],
      "text/plain": [
       "                                                              filename\n",
       "datetime                                                              \n",
       "2019-12-04 23:51:38  \\\\10.101.65.115\\広島西部\\002_広島西部水資源再生センター\\02_data...\n",
       "2019-12-04 23:51:48  \\\\10.101.65.115\\広島西部\\002_広島西部水資源再生センター\\02_data...\n",
       "2019-12-04 23:51:58  \\\\10.101.65.115\\広島西部\\002_広島西部水資源再生センター\\02_data...\n",
       "2019-12-04 23:52:08  \\\\10.101.65.115\\広島西部\\002_広島西部水資源再生センター\\02_data...\n",
       "2019-12-04 23:52:18  \\\\10.101.65.115\\広島西部\\002_広島西部水資源再生センター\\02_data..."
      ]
     },
     "metadata": {}
    },
    {
     "output_type": "stream",
     "name": "stdout",
     "text": [
      "<class 'pandas.core.frame.DataFrame'>\n",
      "DatetimeIndex: 287 entries, 2019-12-02 08:43:38 to 2019-12-04 23:52:18\n",
      "Data columns (total 1 columns):\n",
      " #   Column    Non-Null Count  Dtype \n",
      "---  ------    --------------  ----- \n",
      " 0   filename  287 non-null    object\n",
      "dtypes: object(1)\n",
      "memory usage: 4.5+ KB\n"
     ]
    },
    {
     "output_type": "display_data",
     "data": {
      "text/plain": [
       "None"
      ]
     },
     "metadata": {}
    }
   ],
   "metadata": {}
  },
  {
   "cell_type": "code",
   "execution_count": null,
   "source": [
    "pick_file_list_path = Path(outdir_log, \"pick_file_list.csv\")\r\n",
    "pick_file_list_pd.to_csv(pick_file_list_path)\r\n"
   ],
   "outputs": [],
   "metadata": {}
  },
  {
   "cell_type": "code",
   "execution_count": null,
   "source": [],
   "outputs": [],
   "metadata": {}
  }
 ],
 "metadata": {
  "jupytext": {
   "encoding": "# -*- coding: utf-8 -*-",
   "text_representation": {
    "extension": ".py",
    "format_name": "percent",
    "format_version": "1.2",
    "jupytext_version": "1.1.7"
   }
  },
  "kernelspec": {
   "name": "python3",
   "display_name": "Python 3.7.4 64-bit ('base': conda)"
  },
  "language_info": {
   "codemirror_mode": {
    "name": "ipython",
    "version": 3
   },
   "file_extension": ".py",
   "mimetype": "text/x-python",
   "name": "python",
   "nbconvert_exporter": "python",
   "pygments_lexer": "ipython3",
   "version": "3.7.4"
  },
  "toc": {
   "base_numbering": 1,
   "nav_menu": {},
   "number_sections": true,
   "sideBar": true,
   "skip_h1_title": false,
   "title_cell": "Table of Contents",
   "title_sidebar": "Contents",
   "toc_cell": true,
   "toc_position": {
    "height": "922px",
    "left": "279px",
    "top": "207.133px",
    "width": "317px"
   },
   "toc_section_display": true,
   "toc_window_display": true
  },
  "varInspector": {
   "cols": {
    "lenName": 16,
    "lenType": 16,
    "lenVar": 40
   },
   "kernels_config": {
    "python": {
     "delete_cmd_postfix": "",
     "delete_cmd_prefix": "del ",
     "library": "var_list.py",
     "varRefreshCmd": "print(var_dic_list())"
    },
    "r": {
     "delete_cmd_postfix": ") ",
     "delete_cmd_prefix": "rm(",
     "library": "var_list.r",
     "varRefreshCmd": "cat(var_dic_list()) "
    }
   },
   "position": {
    "height": "810.85px",
    "left": "1215px",
    "right": "20px",
    "top": "120px",
    "width": "350px"
   },
   "types_to_exclude": [
    "module",
    "function",
    "builtin_function_or_method",
    "instance",
    "_Feature"
   ],
   "window_display": false
  },
  "interpreter": {
   "hash": "6f0dafdfe6a7608bd073d945493d2627a5d7c715cf9e2e6e4e0a6f354a54a4d0"
  }
 },
 "nbformat": 4,
 "nbformat_minor": 2
}