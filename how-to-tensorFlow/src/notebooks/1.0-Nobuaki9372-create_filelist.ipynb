{
 "cells": [
  {
   "cell_type": "markdown",
   "source": [
    "# 概要\r\n",
    "\r\n",
    "20211004 \r\n",
    "\r\n",
    "本コードは画像AIのための池の画像のファイルリスト作成コードである<br>\r\n",
    "\r\n"
   ],
   "metadata": {}
  },
  {
   "cell_type": "markdown",
   "source": [
    "# ライブラリのインポート\n",
    "\n",
    "## Loggerのインポート\n",
    "\n",
    "`MyLogger`は自作のロガークラスであり、`util/MyLogger.py`で実装されている。<br>"
   ],
   "metadata": {}
  },
  {
   "cell_type": "code",
   "execution_count": 7,
   "source": [
    "%matplotlib inline\r\n",
    "\r\n",
    "from IPython.display import display\r\n",
    "\r\n",
    "import argparse\r\n",
    "import os\r\n",
    "import sys\r\n",
    "import re\r\n",
    "import cv2\r\n",
    "import shutil\r\n",
    "import time as tm\r\n",
    "import datetime as dt\r\n",
    "import numpy as np\r\n",
    "import pandas as pd\r\n",
    "from collections import deque\r\n",
    "import matplotlib.pyplot as plt\r\n",
    "from matplotlib import cm\r\n",
    "import seaborn as sns\r\n",
    "from tqdm import tqdm\r\n",
    "from pathlib import Path\r\n",
    "from PIL import Image\r\n",
    "\r\n",
    "\r\n",
    "from utils import MyLogger\r\n",
    "\r\n",
    "sns.set()"
   ],
   "outputs": [],
   "metadata": {
    "scrolled": true
   }
  },
  {
   "cell_type": "markdown",
   "source": [
    "# Configファイルのロード\n",
    "\n",
    "設定情報やハイパーパラメータをjsonからロードする。<br>\n",
    "引数ではないが、利便性からargsに格納する。<br>"
   ],
   "metadata": {}
  },
  {
   "cell_type": "code",
   "execution_count": 4,
   "source": [
    "config_path = \"configs/create_filelist\"\r\n",
    "config_filename = \"east_3-2_final_settling_tank\"\r\n",
    "\r\n",
    "args = pd.read_json(Path(config_path, f\"{config_filename}.json\"), typ = 'series', encoding = \"utf-8\")\r\n",
    "display(args)"
   ],
   "outputs": [
    {
     "output_type": "display_data",
     "data": {
      "text/plain": [
       "seed                                                    20190517\n",
       "indir          //10.101.65.115/広島西部/002_広島西部水資源再生センター/02_data...\n",
       "outdir_log                                                  None\n",
       "start_index                                   2019-12-1 00:00:00\n",
       "end_index                                     2019-12-4 23:59:59\n",
       "dtype: object"
      ]
     },
     "metadata": {}
    }
   ],
   "metadata": {
    "scrolled": false
   }
  },
  {
   "cell_type": "markdown",
   "source": [
    "# アウトプットディレクトリの生成\n"
   ],
   "metadata": {}
  },
  {
   "cell_type": "code",
   "execution_count": 5,
   "source": [
    "# if args.outdir_log:\r\n",
    "#     outdir_log = Path(\"logs\", \"crop_image\", args.outdir_log)\r\n",
    "# else :\r\n",
    "#     outdir_log = Path(\"logs\", \"crop_image\", config_filename)\r\n",
    "\r\n",
    "outdir_log = Path(\"results\", \"create_filelist\", config_filename)\r\n",
    "outdir_log.mkdir(parents=True, exist_ok = True)\r\n",
    "args.to_csv(Path(outdir_log, config_filename + \".csv\"))\r\n",
    "display('Log files are saved in {}'.format(outdir_log))"
   ],
   "outputs": [
    {
     "output_type": "display_data",
     "data": {
      "text/plain": [
       "'Log files are saved in logs\\\\create_filelist\\\\east_3-2_final_settling_tank'"
      ]
     },
     "metadata": {}
    }
   ],
   "metadata": {
    "scrolled": false
   }
  },
  {
   "cell_type": "markdown",
   "source": [
    "# Loggerの設定\n",
    "\n",
    "MyLoggerクラスによって汎用ロガーを作成する。<br>\n",
    "標準出力にINFO情報までを出力し、`root`と`filename`に指定したファイルにDEBUG情報まで出力する。<br>\n",
    "moduleNmaeは`__name__`とすることでmainを指定できる。"
   ],
   "metadata": {}
  },
  {
   "cell_type": "code",
   "execution_count": 8,
   "source": [
    "path_log = Path('logs/')\r\n",
    "path_log.mkdir(parents = True, exist_ok = True)\r\n",
    "\r\n",
    "from logging import ERROR, INFO\r\n",
    "ml = MyLogger(root = path_log,\r\n",
    "              filename = \"create_filelist.log\",\r\n",
    "              stream_level = INFO,\r\n",
    "              moduleName = __name__)\r\n",
    "\r\n",
    "logger = ml.getModuleLogger()\r\n",
    "\r\n",
    "logger.info(\"start script\")\r\n",
    "logger.info(f\"config file name :{config_filename}\")"
   ],
   "outputs": [],
   "metadata": {
    "scrolled": true
   }
  },
  {
   "cell_type": "code",
   "execution_count": 6,
   "source": [
    "def get_filelist(file_path):\r\n",
    "    file_list = deque(maxlen = 10**6)\r\n",
    "#     for root, dirs, files in tqdm(os.walk(file_path)):\r\n",
    "#         for file in files:\r\n",
    "#             filetime_ep = os.path.getmtime(Path(root, file))\r\n",
    "#             filetime = dt.datetime.fromtimestamp(filetime_ep)\r\n",
    "#             filetime_st = filetime.strftime('%Y-%m-%d %H:%M:%S')\r\n",
    "#             file_list.append([Path(root, file), filetime])\r\n",
    "    \r\n",
    "    for file in tqdm(Path(file_path).glob(\"**/*.jpg\")):\r\n",
    "        if file.is_file() == True:\r\n",
    "            filetime_ep = os.path.getmtime(Path(file.parent, file.name))\r\n",
    "            filetime = dt.datetime.fromtimestamp(filetime_ep)\r\n",
    "            filetime_st = filetime.strftime('%Y-%m-%d %H:%M:%S')\r\n",
    "            file_list.append([file, filetime])\r\n",
    "    \r\n",
    "    \r\n",
    "    file_list_pd = pd.DataFrame(list(file_list), columns = [\"filename\", \"datetime\"])\r\n",
    "    file_list_pd = file_list_pd.set_index(\"datetime\")\r\n",
    "    file_list_pd = file_list_pd.sort_index()\r\n",
    "    \r\n",
    "    return file_list_pd"
   ],
   "outputs": [],
   "metadata": {}
  },
  {
   "cell_type": "code",
   "execution_count": 9,
   "source": [
    "t_s = tm.time()\r\n",
    "\r\n",
    "file_list_path = Path(outdir_log, \"file_list.csv\")\r\n",
    "\r\n",
    "file_list = get_filelist(args.indir)\r\n",
    "file_list.to_csv(file_list_path)\r\n",
    "\r\n",
    "duration = tm.time() - t_s\r\n",
    "logger.info(\"get file list : elapsed time is {:.2f} [s]\".format(duration))\r\n",
    "\r\n",
    "display(file_list.shape)\r\n",
    "display(file_list.index.dtype)\r\n",
    "display(file_list.dtypes)\r\n",
    "display(file_list.head())\r\n",
    "display(file_list.tail())"
   ],
   "outputs": [
    {
     "output_type": "stream",
     "name": "stderr",
     "text": [
      "209569it [06:44, 517.68it/s]\n"
     ]
    },
    {
     "output_type": "display_data",
     "data": {
      "text/plain": [
       "(209569, 1)"
      ]
     },
     "metadata": {}
    },
    {
     "output_type": "display_data",
     "data": {
      "text/plain": [
       "dtype('<M8[ns]')"
      ]
     },
     "metadata": {}
    },
    {
     "output_type": "display_data",
     "data": {
      "text/plain": [
       "filename    object\n",
       "dtype: object"
      ]
     },
     "metadata": {}
    },
    {
     "output_type": "display_data",
     "data": {
      "text/html": [
       "<div>\n",
       "<style scoped>\n",
       "    .dataframe tbody tr th:only-of-type {\n",
       "        vertical-align: middle;\n",
       "    }\n",
       "\n",
       "    .dataframe tbody tr th {\n",
       "        vertical-align: top;\n",
       "    }\n",
       "\n",
       "    .dataframe thead th {\n",
       "        text-align: right;\n",
       "    }\n",
       "</style>\n",
       "<table border=\"1\" class=\"dataframe\">\n",
       "  <thead>\n",
       "    <tr style=\"text-align: right;\">\n",
       "      <th></th>\n",
       "      <th>filename</th>\n",
       "    </tr>\n",
       "    <tr>\n",
       "      <th>datetime</th>\n",
       "      <th></th>\n",
       "    </tr>\n",
       "  </thead>\n",
       "  <tbody>\n",
       "    <tr>\n",
       "      <th>2018-03-02 10:40:10</th>\n",
       "      <td>\\\\10.101.65.115\\広島西部\\002_広島西部水資源再生センター\\02_data...</td>\n",
       "    </tr>\n",
       "    <tr>\n",
       "      <th>2018-08-21 09:10:46</th>\n",
       "      <td>\\\\10.101.65.115\\広島西部\\002_広島西部水資源再生センター\\02_data...</td>\n",
       "    </tr>\n",
       "    <tr>\n",
       "      <th>2018-08-21 09:10:56</th>\n",
       "      <td>\\\\10.101.65.115\\広島西部\\002_広島西部水資源再生センター\\02_data...</td>\n",
       "    </tr>\n",
       "    <tr>\n",
       "      <th>2018-08-21 09:11:06</th>\n",
       "      <td>\\\\10.101.65.115\\広島西部\\002_広島西部水資源再生センター\\02_data...</td>\n",
       "    </tr>\n",
       "    <tr>\n",
       "      <th>2018-08-21 09:11:16</th>\n",
       "      <td>\\\\10.101.65.115\\広島西部\\002_広島西部水資源再生センター\\02_data...</td>\n",
       "    </tr>\n",
       "  </tbody>\n",
       "</table>\n",
       "</div>"
      ],
      "text/plain": [
       "                                                              filename\n",
       "datetime                                                              \n",
       "2018-03-02 10:40:10  \\\\10.101.65.115\\広島西部\\002_広島西部水資源再生センター\\02_data...\n",
       "2018-08-21 09:10:46  \\\\10.101.65.115\\広島西部\\002_広島西部水資源再生センター\\02_data...\n",
       "2018-08-21 09:10:56  \\\\10.101.65.115\\広島西部\\002_広島西部水資源再生センター\\02_data...\n",
       "2018-08-21 09:11:06  \\\\10.101.65.115\\広島西部\\002_広島西部水資源再生センター\\02_data...\n",
       "2018-08-21 09:11:16  \\\\10.101.65.115\\広島西部\\002_広島西部水資源再生センター\\02_data..."
      ]
     },
     "metadata": {}
    },
    {
     "output_type": "display_data",
     "data": {
      "text/html": [
       "<div>\n",
       "<style scoped>\n",
       "    .dataframe tbody tr th:only-of-type {\n",
       "        vertical-align: middle;\n",
       "    }\n",
       "\n",
       "    .dataframe tbody tr th {\n",
       "        vertical-align: top;\n",
       "    }\n",
       "\n",
       "    .dataframe thead th {\n",
       "        text-align: right;\n",
       "    }\n",
       "</style>\n",
       "<table border=\"1\" class=\"dataframe\">\n",
       "  <thead>\n",
       "    <tr style=\"text-align: right;\">\n",
       "      <th></th>\n",
       "      <th>filename</th>\n",
       "    </tr>\n",
       "    <tr>\n",
       "      <th>datetime</th>\n",
       "      <th></th>\n",
       "    </tr>\n",
       "  </thead>\n",
       "  <tbody>\n",
       "    <tr>\n",
       "      <th>2019-12-05 13:16:18</th>\n",
       "      <td>\\\\10.101.65.115\\広島西部\\002_広島西部水資源再生センター\\02_data...</td>\n",
       "    </tr>\n",
       "    <tr>\n",
       "      <th>2019-12-05 13:16:28</th>\n",
       "      <td>\\\\10.101.65.115\\広島西部\\002_広島西部水資源再生センター\\02_data...</td>\n",
       "    </tr>\n",
       "    <tr>\n",
       "      <th>2019-12-05 13:16:38</th>\n",
       "      <td>\\\\10.101.65.115\\広島西部\\002_広島西部水資源再生センター\\02_data...</td>\n",
       "    </tr>\n",
       "    <tr>\n",
       "      <th>2019-12-05 13:16:48</th>\n",
       "      <td>\\\\10.101.65.115\\広島西部\\002_広島西部水資源再生センター\\02_data...</td>\n",
       "    </tr>\n",
       "    <tr>\n",
       "      <th>2019-12-05 13:16:58</th>\n",
       "      <td>\\\\10.101.65.115\\広島西部\\002_広島西部水資源再生センター\\02_data...</td>\n",
       "    </tr>\n",
       "  </tbody>\n",
       "</table>\n",
       "</div>"
      ],
      "text/plain": [
       "                                                              filename\n",
       "datetime                                                              \n",
       "2019-12-05 13:16:18  \\\\10.101.65.115\\広島西部\\002_広島西部水資源再生センター\\02_data...\n",
       "2019-12-05 13:16:28  \\\\10.101.65.115\\広島西部\\002_広島西部水資源再生センター\\02_data...\n",
       "2019-12-05 13:16:38  \\\\10.101.65.115\\広島西部\\002_広島西部水資源再生センター\\02_data...\n",
       "2019-12-05 13:16:48  \\\\10.101.65.115\\広島西部\\002_広島西部水資源再生センター\\02_data...\n",
       "2019-12-05 13:16:58  \\\\10.101.65.115\\広島西部\\002_広島西部水資源再生センター\\02_data..."
      ]
     },
     "metadata": {}
    }
   ],
   "metadata": {}
  },
  {
   "cell_type": "code",
   "execution_count": 10,
   "source": [
    "file_list.info()"
   ],
   "outputs": [
    {
     "output_type": "stream",
     "name": "stdout",
     "text": [
      "<class 'pandas.core.frame.DataFrame'>\n",
      "DatetimeIndex: 209569 entries, 2018-03-02 10:40:10 to 2019-12-05 13:16:58\n",
      "Data columns (total 1 columns):\n",
      " #   Column    Non-Null Count   Dtype \n",
      "---  ------    --------------   ----- \n",
      " 0   filename  209569 non-null  object\n",
      "dtypes: object(1)\n",
      "memory usage: 3.2+ MB\n"
     ]
    }
   ],
   "metadata": {}
  }
 ],
 "metadata": {
  "jupytext": {
   "encoding": "# -*- coding: utf-8 -*-",
   "text_representation": {
    "extension": ".py",
    "format_name": "percent",
    "format_version": "1.2",
    "jupytext_version": "1.1.7"
   }
  },
  "kernelspec": {
   "name": "python3",
   "display_name": "Python 3.7.4 64-bit ('base': conda)"
  },
  "language_info": {
   "codemirror_mode": {
    "name": "ipython",
    "version": 3
   },
   "file_extension": ".py",
   "mimetype": "text/x-python",
   "name": "python",
   "nbconvert_exporter": "python",
   "pygments_lexer": "ipython3",
   "version": "3.7.4"
  },
  "toc": {
   "base_numbering": 1,
   "nav_menu": {},
   "number_sections": true,
   "sideBar": true,
   "skip_h1_title": false,
   "title_cell": "Table of Contents",
   "title_sidebar": "Contents",
   "toc_cell": true,
   "toc_position": {
    "height": "922px",
    "left": "279px",
    "top": "207.133px",
    "width": "317px"
   },
   "toc_section_display": true,
   "toc_window_display": true
  },
  "varInspector": {
   "cols": {
    "lenName": 16,
    "lenType": 16,
    "lenVar": 40
   },
   "kernels_config": {
    "python": {
     "delete_cmd_postfix": "",
     "delete_cmd_prefix": "del ",
     "library": "var_list.py",
     "varRefreshCmd": "print(var_dic_list())"
    },
    "r": {
     "delete_cmd_postfix": ") ",
     "delete_cmd_prefix": "rm(",
     "library": "var_list.r",
     "varRefreshCmd": "cat(var_dic_list()) "
    }
   },
   "position": {
    "height": "810.85px",
    "left": "1215px",
    "right": "20px",
    "top": "120px",
    "width": "350px"
   },
   "types_to_exclude": [
    "module",
    "function",
    "builtin_function_or_method",
    "instance",
    "_Feature"
   ],
   "window_display": false
  },
  "interpreter": {
   "hash": "6f0dafdfe6a7608bd073d945493d2627a5d7c715cf9e2e6e4e0a6f354a54a4d0"
  }
 },
 "nbformat": 4,
 "nbformat_minor": 2
}